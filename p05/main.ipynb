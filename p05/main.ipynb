{
 "cells": [
  {
   "cell_type": "code",
   "execution_count": null,
   "metadata": {},
   "outputs": [],
   "source": [
    "# project: p5\n",
    "# submitter: bodla\n",
    "# partner: kksun"
   ]
  },
  {
   "cell_type": "code",
   "execution_count": null,
   "metadata": {},
   "outputs": [],
   "source": [
    "import project as proj"
   ]
  },
  {
   "cell_type": "code",
   "execution_count": null,
   "metadata": {},
   "outputs": [],
   "source": [
    "#lab p5 code\n",
    "def get_month(date):\n",
    "    '''Returns the month when the date is the in the 'mm/dd/yyyy' format'''\n",
    "    return int(date[:2])\n",
    "\n",
    "def get_day(date):\n",
    "    '''Returns the day when the date is the in the 'mm/dd/yyyy' format'''\n",
    "    return int(date[3:5])\n",
    "\n",
    "def get_year(date):\n",
    "    '''Returns the year when the date is the in the 'mm/dd/yyyy' format'''\n",
    "    return int(date[6:])"
   ]
  },
  {
   "cell_type": "code",
   "execution_count": null,
   "metadata": {},
   "outputs": [],
   "source": [
    "#q1\n",
    "num_hurr = proj.count()\n",
    "num_hurr"
   ]
  },
  {
   "cell_type": "code",
   "execution_count": 5,
   "metadata": {},
   "outputs": [
    {
     "data": {
      "text/plain": [
       "'Lenny'"
      ]
     },
     "execution_count": 5,
     "metadata": {},
     "output_type": "execute_result"
    }
   ],
   "source": [
    "#q2\n",
    "proj.get_name(num_hurr-2)"
   ]
  },
  {
   "cell_type": "code",
   "execution_count": 6,
   "metadata": {},
   "outputs": [
    {
     "data": {
      "text/plain": [
       "756"
      ]
     },
     "execution_count": 6,
     "metadata": {},
     "output_type": "execute_result"
    }
   ],
   "source": [
    "#q3\n",
    "proj.get_deaths(24)"
   ]
  },
  {
   "cell_type": "code",
   "execution_count": 7,
   "metadata": {},
   "outputs": [
    {
     "name": "stdout",
     "output_type": "stream",
     "text": [
      "3\n"
     ]
    }
   ],
   "source": [
    "#q4\n",
    "count = 0 #keep track of each time the hurricane name equals \"florence\"\n",
    "for i in range(0,num_hurr):\n",
    "    count += 1 if(proj.get_name(i).lower() == \"florence\") else 0\n",
    "    \n",
    "# for i in range(0,num_hurr):\n",
    "#     if(proj.get_name(i).upper() == \"FLORENCE\"):\n",
    "#         count += 1  \n",
    "    \n",
    "print(count)"
   ]
  },
  {
   "cell_type": "code",
   "execution_count": 27,
   "metadata": {},
   "outputs": [
    {
     "data": {
      "text/plain": [
       "True"
      ]
     },
     "execution_count": 27,
     "metadata": {},
     "output_type": "execute_result"
    }
   ],
   "source": [
    "#q5\n",
    "number_of_uniq_deaths = [] \n",
    "for i in range(proj.count()):\n",
    "    # add this number to record if there is no duplicate\n",
    "    if proj.get_deaths(i) not in number_of_uniq_deaths: \n",
    "        number_of_uniq_deaths.append(proj.get_deaths(i)) # TODO: get the number_of_death of that hurricane\n",
    "len(number_of_uniq_deaths)\n",
    "\n",
    "[1,2,3] in [4,2,24,True, \"Hi\",[1,2,3]]"
   ]
  },
  {
   "cell_type": "code",
   "execution_count": 9,
   "metadata": {},
   "outputs": [
    {
     "data": {
      "text/plain": [
       "'Allen'"
      ]
     },
     "execution_count": 9,
     "metadata": {},
     "output_type": "execute_result"
    }
   ],
   "source": [
    "#q6\n",
    "fast = 0 #track of the INDEX of the fastest hurricane, NOT the fastest speed\n",
    "for i in range(0, num_hurr):\n",
    "    fast = i if proj.get_mph(i) > proj.get_mph(fast) else fast\n",
    "\n",
    "# for i in range(0, num_hurr):\n",
    "#     if proj.get_mph(i) > proj.get_mph(fast):\n",
    "#         fast = i\n",
    "\n",
    "proj.get_name(fast)"
   ]
  },
  {
   "cell_type": "code",
   "execution_count": 32,
   "metadata": {},
   "outputs": [
    {
     "data": {
      "text/plain": [
       "True"
      ]
     },
     "execution_count": 32,
     "metadata": {},
     "output_type": "execute_result"
    }
   ],
   "source": [
    "#q7\n",
    "#get the average mph\n",
    "\n",
    "hurr_mph = [] #python knows this will be a list\n",
    "for i in range(0, num_hurr):\n",
    "    hurr_mph.append(proj.get_mph(i))\n",
    "    \n",
    "sum(hurr_mph)/len(hurr_mph) "
   ]
  },
  {
   "cell_type": "code",
   "execution_count": null,
   "metadata": {},
   "outputs": [],
   "source": [
    "tot_speed, count_hurr = (0, proj.count()) #133\n",
    "# tot_speed  = 0\n",
    "# count_hurr = proj.count() = 133\n",
    "\n",
    "for i in range(0, num_hurr):\n",
    "    tot_speed += proj.get_mph(i)\n",
    "    \n",
    "avg = tot_speed / proj.count() #or avg = tot_speed / count_hurr"
   ]
  },
  {
   "cell_type": "code",
   "execution_count": 31,
   "metadata": {},
   "outputs": [
    {
     "data": {
      "text/plain": [
       "6502484699.225564"
      ]
     },
     "execution_count": 31,
     "metadata": {},
     "output_type": "execute_result"
    }
   ],
   "source": [
    "#q8\n",
    "def format_damage(num):\n",
    "    \"\"\"num in the format ddd(K|M|B)\"\"\"\n",
    "    if num[-1] == \"K\":\n",
    "        return int(float(num[0:-1])*1000)\n",
    "    elif num[-1] == \"M\":\n",
    "        return int(float(num[0:-1])*1000000)\n",
    "    elif num[-1] == \"B\":\n",
    "        return int(float(num[0:-1])*1000000000)\n",
    "    raise Exception(\"Incorrect number format\")\n",
    "    \n",
    "avg_dmg = []\n",
    "for i in range(0, num_hurr):\n",
    "    avg_dmg.append( format_damage(proj.get_damage(i)) )    \n",
    "    \n",
    "sum(avg_dmg)/len(avg_dmg)"
   ]
  },
  {
   "cell_type": "code",
   "execution_count": 39,
   "metadata": {},
   "outputs": [
    {
     "data": {
      "text/plain": [
       "6502484699.225564"
      ]
     },
     "execution_count": 39,
     "metadata": {},
     "output_type": "execute_result"
    }
   ],
   "source": [
    "\n",
    "# for i in range(0, num_hurr):\n",
    "#     hurr_mph.append(proj.get_mph(i))\n",
    "\n",
    "\n",
    "#list.append(parameter) -> adds the parameter to the END of list\n",
    "# item_stock = [\"30 staples\"]\n",
    "# item_stock.append(\"20 apples\")\n",
    "# print(item_stock)\n",
    "\n",
    "tot_dmg = 0\n",
    "for i in range(0, num_hurr):\n",
    "    tot_dmg += format_damage(proj.get_damage(i))\n",
    "\n",
    "tot_dmg / proj.count()"
   ]
  },
  {
   "cell_type": "code",
   "execution_count": 41,
   "metadata": {},
   "outputs": [
    {
     "name": "stdout",
     "output_type": "stream",
     "text": [
      "77\n"
     ]
    }
   ],
   "source": [
    "#q9\n",
    "deaths = 0\n",
    "for i in range(0,num_hurr):\n",
    "    deaths += proj.get_deaths(i) if(proj.get_name(i).upper() == \"FLOYD\") else` 0\n",
    "    \n",
    "print(deaths)"
   ]
  },
  {
   "cell_type": "code",
   "execution_count": 44,
   "metadata": {},
   "outputs": [
    {
     "name": "stdout",
     "output_type": "stream",
     "text": [
      "77\n"
     ]
    }
   ],
   "source": [
    "deaths = 0\n",
    "for i in range(0,num_hurr):\n",
    "    if(proj.get_name(i).upper() == \"FLOYD\"):\n",
    "        deaths += proj.get_deaths(i)\n",
    "print(deaths)"
   ]
  },
  {
   "cell_type": "code",
   "execution_count": 13,
   "metadata": {},
   "outputs": [
    {
     "data": {
      "text/plain": [
       "'Maria'"
      ]
     },
     "execution_count": 13,
     "metadata": {},
     "output_type": "execute_result"
    }
   ],
   "source": [
    "#q10\n",
    "# return index of deadliest hurricane over the given date range\n",
    "def deadliest_in_range(year1, year2):\n",
    "    worst = None\n",
    "    for i in range(num_hurr):\n",
    "        year = get_year(proj.get_formed(i))\n",
    "        if(year >= year1 and year <= year2):\n",
    "            worst = i if(not worst or proj.get_deaths(worst) < proj.get_deaths(i)) else worst\n",
    "    return worst\n",
    "\n",
    "def deadliest():\n",
    "    worst = None\n",
    "    for i in range(num_hurr):\n",
    "        worst = i if(not worst or proj.get_deaths(worst) < proj.get_deaths(i)) else worst\n",
    "    return worst\n",
    "\n",
    "proj.get_name(deadliest_in_range(2000,2020))"
   ]
  },
  {
   "cell_type": "code",
   "execution_count": 14,
   "metadata": {},
   "outputs": [
    {
     "data": {
      "text/plain": [
       "'San Ciriaco'"
      ]
     },
     "execution_count": 14,
     "metadata": {},
     "output_type": "execute_result"
    }
   ],
   "source": [
    "#q11\n",
    "proj.get_name(deadliest())"
   ]
  },
  {
   "cell_type": "code",
   "execution_count": 15,
   "metadata": {},
   "outputs": [
    {
     "data": {
      "text/plain": [
       "1966"
      ]
     },
     "execution_count": 15,
     "metadata": {},
     "output_type": "execute_result"
    }
   ],
   "source": [
    "#q12\n",
    "get_year(proj.get_formed(deadliest_in_range(1901,2000)))"
   ]
  },
  {
   "cell_type": "code",
   "execution_count": 16,
   "metadata": {},
   "outputs": [
    {
     "data": {
      "text/plain": [
       "7940000000"
      ]
     },
     "execution_count": 16,
     "metadata": {},
     "output_type": "execute_result"
    }
   ],
   "source": [
    "#q13\n",
    "format_damage(proj.get_damage(deadliest_in_range(2000,2010)))"
   ]
  },
  {
   "cell_type": "code",
   "execution_count": 17,
   "metadata": {},
   "outputs": [
    {
     "data": {
      "text/plain": [
       "263027139999"
      ]
     },
     "execution_count": 17,
     "metadata": {},
     "output_type": "execute_result"
    }
   ],
   "source": [
    "#q14\n",
    "month = 0\n",
    "for i in range(num_hurr):\n",
    "    curr_m = get_month(proj.get_formed(i))\n",
    "    month += format_damage(proj.get_damage(i)) if(curr_m == 9) else 0\n",
    "\n",
    "month"
   ]
  },
  {
   "cell_type": "code",
   "execution_count": 18,
   "metadata": {},
   "outputs": [
    {
     "data": {
      "text/plain": [
       "3"
      ]
     },
     "execution_count": 18,
     "metadata": {},
     "output_type": "execute_result"
    }
   ],
   "source": [
    "#q15\n",
    "\n",
    "def hurricanes_in_month(mm):\n",
    "    num_of_hurricanes = 0\n",
    "    for i in range(proj.count()):\n",
    "        num_of_hurricanes += 1 if get_month(proj.get_formed(i)) == mm else 0\n",
    "    return num_of_hurricanes\n",
    "\n",
    "hurricanes_in_month(12)"
   ]
  },
  {
   "cell_type": "code",
   "execution_count": 19,
   "metadata": {},
   "outputs": [
    {
     "data": {
      "text/plain": [
       "102"
      ]
     },
     "execution_count": 19,
     "metadata": {},
     "output_type": "execute_result"
    }
   ],
   "source": [
    "#q16\n",
    "month = 0\n",
    "for i in range(num_hurr):\n",
    "    curr_m = get_month(proj.get_formed(i))\n",
    "    month += 1 if(curr_m > 7 and curr_m < 12) else 0\n",
    "month"
   ]
  },
  {
   "cell_type": "code",
   "execution_count": 20,
   "metadata": {},
   "outputs": [
    {
     "data": {
      "text/plain": [
       "3"
      ]
     },
     "execution_count": 20,
     "metadata": {},
     "output_type": "execute_result"
    }
   ],
   "source": [
    "#q17\n",
    "\n",
    "#keep track of month formations in a list then search the list for the minimum position\n",
    "months = [0] * 12\n",
    "for i in range(0,num_hurr):\n",
    "    month    = get_month(proj.get_formed(i))\n",
    "    months[month-1] += 1\n",
    "\n",
    "#add one since lists are zero indexed\n",
    "months.index(min(months))+1"
   ]
  },
  {
   "cell_type": "code",
   "execution_count": 21,
   "metadata": {},
   "outputs": [
    {
     "data": {
      "text/plain": [
       "'Maria'"
      ]
     },
     "execution_count": 21,
     "metadata": {},
     "output_type": "execute_result"
    }
   ],
   "source": [
    "#q18\n",
    "month = 0\n",
    "for i in range(num_hurr):\n",
    "    curr_m = get_month(proj.get_formed(i))\n",
    "    month += 1 if(curr_m > 7 and curr_m < 12) else 0\n",
    "proj.get_name(deadliest_in_range(2010,2020))"
   ]
  },
  {
   "cell_type": "code",
   "execution_count": 22,
   "metadata": {},
   "outputs": [
    {
     "data": {
      "text/plain": [
       "4"
      ]
     },
     "execution_count": 22,
     "metadata": {},
     "output_type": "execute_result"
    }
   ],
   "source": [
    "#q19\n",
    "year_list = []\n",
    "for i in range(0,num_hurr):\n",
    "    year = get_year(proj.get_formed(i)) # TODO: get the year this hurricane formed\n",
    "    if (proj.get_deaths(i)>1000 and (not year in year_list)):\n",
    "        year_list.append(year)\n",
    "\n",
    "len(year_list)"
   ]
  },
  {
   "cell_type": "code",
   "execution_count": 23,
   "metadata": {},
   "outputs": [
    {
     "data": {
      "text/plain": [
       "17"
      ]
     },
     "execution_count": 23,
     "metadata": {},
     "output_type": "execute_result"
    }
   ],
   "source": [
    "#q20\n",
    "year_list = []\n",
    "for i in range(0,num_hurr):\n",
    "    year = get_year(proj.get_formed(i)) # TODO: get the year this hurricane formed\n",
    "    if (proj.get_mph(i)>150 and (not year in year_list)):\n",
    "        year_list.append(year)\n",
    "\n",
    "len(year_list)"
   ]
  }
 ],
 "metadata": {
  "kernelspec": {
   "display_name": "Python 3",
   "language": "python",
   "name": "python3"
  },
  "language_info": {
   "codemirror_mode": {
    "name": "ipython",
    "version": 3
   },
   "file_extension": ".py",
   "mimetype": "text/x-python",
   "name": "python",
   "nbconvert_exporter": "python",
   "pygments_lexer": "ipython3",
   "version": "3.8.5"
  }
 },
 "nbformat": 4,
 "nbformat_minor": 4
}
