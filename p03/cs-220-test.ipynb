{
 "cells": [
  {
   "cell_type": "code",
   "execution_count": 1,
   "metadata": {},
   "outputs": [],
   "source": [
    "import project as proj\n",
    "import statistics as stats\n",
    "import math"
   ]
  },
  {
   "cell_type": "code",
   "execution_count": 2,
   "metadata": {},
   "outputs": [],
   "source": [
    "#Project set up\n",
    "proj.init(\"madison.csv\")\n",
    "sch_id    = proj.get_id(\"schools\")\n",
    "gyms_id   = proj.get_id(\"gyms\")\n",
    "rest_id   = proj.get_id(\"restaurants\")\n",
    "stores_id = proj.get_id(\"stores\")\n",
    "gov_id    = proj.get_id(\"governments\")"
   ]
  },
  {
   "cell_type": "code",
   "execution_count": 3,
   "metadata": {},
   "outputs": [
    {
     "data": {
      "text/plain": [
       "122"
      ]
     },
     "execution_count": 3,
     "metadata": {},
     "output_type": "execute_result"
    }
   ],
   "source": [
    "#q1\n",
    "# print(stores_id) #stores_id stored in \"project set-up\" cell\n",
    "stores_id"
   ]
  },
  {
   "cell_type": "code",
   "execution_count": 4,
   "metadata": {},
   "outputs": [
    {
     "data": {
      "text/plain": [
       "68.06346877"
      ]
     },
     "execution_count": 4,
     "metadata": {},
     "output_type": "execute_result"
    }
   ],
   "source": [
    "#q2\n",
    "# (proj.get_spending(sch_id))\n",
    "(proj.get_spending(3, 2017))"
   ]
  },
  {
   "cell_type": "code",
   "execution_count": 5,
   "metadata": {},
   "outputs": [
    {
     "data": {
      "text/plain": [
       "19.13634773"
      ]
     },
     "execution_count": 5,
     "metadata": {},
     "output_type": "execute_result"
    }
   ],
   "source": [
    "#q3\n",
    "proj.get_spending(rest_id, 2019)"
   ]
  },
  {
   "cell_type": "code",
   "execution_count": 6,
   "metadata": {},
   "outputs": [
    {
     "data": {
      "text/plain": [
       "180.37142104"
      ]
     },
     "execution_count": 6,
     "metadata": {},
     "output_type": "execute_result"
    }
   ],
   "source": [
    "#q4\n",
    "\n",
    "def year_max(year):\n",
    "    # grab the spending by each agency in the given year\n",
    "    governments_spending = proj.get_spending(proj.get_id(\"governments\"), year)\n",
    "    gyms_spending = proj.get_spending(proj.get_id(\"gyms\"), year)\n",
    "    restaurants_spending = proj.get_spending(proj.get_id(\"restaurants\"), year)\n",
    "    schools_spending = proj.get_spending(proj.get_id(\"schools\"), year)\n",
    "    stores_spending = proj.get_spending(proj.get_id(\"stores\"), year)\n",
    "\n",
    "    # use builtin max function to get the largest of the five values\n",
    "    return max(governments_spending, gyms_spending, restaurants_spending, schools_spending, stores_spending)\n",
    "\n",
    "(year_max(2017))"
   ]
  },
  {
   "cell_type": "code",
   "execution_count": 7,
   "metadata": {},
   "outputs": [
    {
     "data": {
      "text/plain": [
       "77.87553504"
      ]
     },
     "execution_count": 7,
     "metadata": {},
     "output_type": "execute_result"
    }
   ],
   "source": [
    "#q5\n",
    "(year_max(2020))"
   ]
  },
  {
   "cell_type": "code",
   "execution_count": 8,
   "metadata": {},
   "outputs": [
    {
     "data": {
      "text/plain": [
       "49.73757877"
      ]
     },
     "execution_count": 8,
     "metadata": {},
     "output_type": "execute_result"
    }
   ],
   "source": [
    "#q6\n",
    "def agency_min(agency):\n",
    "    agency_id = proj.get_id(agency)\n",
    "    y17 = proj.get_spending(agency_id, 2017)\n",
    "    y18 = proj.get_spending(agency_id, 2018)\n",
    "    y19 = proj.get_spending(agency_id, 2019)\n",
    "    y20 = proj.get_spending(agency_id, 2020)\n",
    "\n",
    "    # use builtin min function to get the least money the agency spent\n",
    "    return min(y17,y18,y19,y20)\n",
    "\n",
    "(agency_min(\"gyms\")) #dont use gyms_id since agency_min finds the id of the agency"
   ]
  },
  {
   "cell_type": "code",
   "execution_count": 9,
   "metadata": {},
   "outputs": [
    {
     "data": {
      "text/plain": [
       "19.159243279999995"
      ]
     },
     "execution_count": 9,
     "metadata": {},
     "output_type": "execute_result"
    }
   ],
   "source": [
    "#q7\n",
    "(agency_min(\"stores\"))"
   ]
  },
  {
   "cell_type": "code",
   "execution_count": 10,
   "metadata": {},
   "outputs": [
    {
     "data": {
      "text/plain": [
       "27.013047475"
      ]
     },
     "execution_count": 10,
     "metadata": {},
     "output_type": "execute_result"
    }
   ],
   "source": [
    "#q8\n",
    "def agency_avg(agency_id):\n",
    "    years = [proj.get_spending(agency_id, 2017), proj.get_spending(agency_id, 2018),\n",
    "             proj.get_spending(agency_id, 2019), proj.get_spending(agency_id, 2020)]\n",
    "    \n",
    "    return stats.mean(years)\n",
    "\n",
    "(agency_avg(gov_id))"
   ]
  },
  {
   "cell_type": "code",
   "execution_count": 11,
   "metadata": {},
   "outputs": [
    {
     "data": {
      "text/plain": [
       "18.5180922925"
      ]
     },
     "execution_count": 11,
     "metadata": {},
     "output_type": "execute_result"
    }
   ],
   "source": [
    "#q9\n",
    "(agency_avg(rest_id))"
   ]
  },
  {
   "cell_type": "code",
   "execution_count": 12,
   "metadata": {},
   "outputs": [
    {
     "data": {
      "text/plain": [
       "1.1954555452471123"
      ]
     },
     "execution_count": 12,
     "metadata": {},
     "output_type": "execute_result"
    }
   ],
   "source": [
    "#q10\n",
    "g_avg = agency_avg(gyms_id)\n",
    "g_19  = proj.get_spending(gyms_id, 2019)\n",
    "above = ((g_19 - g_avg)/g_avg) * 100\n",
    "(above)"
   ]
  },
  {
   "cell_type": "code",
   "execution_count": 13,
   "metadata": {},
   "outputs": [
    {
     "data": {
      "text/plain": [
       "'schools'"
      ]
     },
     "execution_count": 13,
     "metadata": {},
     "output_type": "execute_result"
    }
   ],
   "source": [
    "#q11\n",
    "def max_spending_agency(start_year=2018, end_year=2020):\n",
    "    sh_max = gyms_max = rest_max = stores_max = gov_max = 0\n",
    "    for i in range(start_year, end_year+1):\n",
    "        sh_max     += proj.get_spending(sch_id, i)\n",
    "        gyms_max   += proj.get_spending(gyms_id, i)\n",
    "        rest_max   += proj.get_spending(rest_id, i)\n",
    "        stores_max += proj.get_spending(stores_id, i)\n",
    "        gov_max    += proj.get_spending(gov_id, i)\n",
    "        \n",
    "    #Get the max and find the max spent\n",
    "    max_spend = max(sh_max, gyms_max, rest_max, stores_max, gov_max)\n",
    "    if max_spend == sh_max:\n",
    "        return \"schools\"\n",
    "    elif max_spend == gyms_max:\n",
    "        return \"gyms\"\n",
    "    elif max_spend == rest_max:\n",
    "        return \"restaurants\"\n",
    "    elif max_spend == stores_max:\n",
    "        return \"stores\"\n",
    "    return \"governments\" \n",
    "    \n",
    "max_spending_agency()\n"
   ]
  },
  {
   "cell_type": "code",
   "execution_count": 14,
   "metadata": {},
   "outputs": [
    {
     "data": {
      "text/plain": [
       "'stores'"
      ]
     },
     "execution_count": 14,
     "metadata": {},
     "output_type": "execute_result"
    }
   ],
   "source": [
    "#q12\n",
    "max_spending_agency(2017, 2019)"
   ]
  },
  {
   "cell_type": "code",
   "execution_count": 15,
   "metadata": {},
   "outputs": [
    {
     "data": {
      "text/plain": [
       "-53.53690368"
      ]
     },
     "execution_count": 15,
     "metadata": {},
     "output_type": "execute_result"
    }
   ],
   "source": [
    "#q13\n",
    "def change_per_year(agency, start_year=2017, end_year=2020):\n",
    "    return (proj.get_spending(agency,end_year)-proj.get_spending(agency,start_year))/(end_year-start_year)\n",
    "    \n",
    "(change_per_year(stores_id))"
   ]
  },
  {
   "cell_type": "code",
   "execution_count": 16,
   "metadata": {},
   "outputs": [
    {
     "data": {
      "text/plain": [
       "0.3007333600000024"
      ]
     },
     "execution_count": 16,
     "metadata": {},
     "output_type": "execute_result"
    }
   ],
   "source": [
    "#q14\n",
    "(change_per_year(stores_id, start_year=2018, end_year=2020))"
   ]
  },
  {
   "cell_type": "code",
   "execution_count": 17,
   "metadata": {},
   "outputs": [
    {
     "data": {
      "text/plain": [
       "23.510019659999983"
      ]
     },
     "execution_count": 17,
     "metadata": {},
     "output_type": "execute_result"
    }
   ],
   "source": [
    "#q15\n",
    "def extrapolate(agency, year1, year2, year3):\n",
    "    change = change_per_year(agency, year1, year2)\n",
    "    return proj.get_spending(agency, year1)+ (change*(year3-year1))\n",
    "\n",
    "(extrapolate(gov_id, 2018, 2019, 2021))"
   ]
  },
  {
   "cell_type": "code",
   "execution_count": 18,
   "metadata": {},
   "outputs": [
    {
     "data": {
      "text/plain": [
       "88.6268421999999"
      ]
     },
     "execution_count": 18,
     "metadata": {},
     "output_type": "execute_result"
    }
   ],
   "source": [
    "#q16\n",
    "(extrapolate(rest_id, 2018, 2020, 2100))"
   ]
  },
  {
   "cell_type": "code",
   "execution_count": 19,
   "metadata": {},
   "outputs": [
    {
     "data": {
      "text/plain": [
       "993.6683869066668"
      ]
     },
     "execution_count": 19,
     "metadata": {},
     "output_type": "execute_result"
    }
   ],
   "source": [
    "#q17\n",
    "extrapolate(sch_id, 2017, 2020,2300)"
   ]
  },
  {
   "cell_type": "code",
   "execution_count": 20,
   "metadata": {},
   "outputs": [
    {
     "data": {
      "text/plain": [
       "-0.8952411000000211"
      ]
     },
     "execution_count": 20,
     "metadata": {},
     "output_type": "execute_result"
    }
   ],
   "source": [
    "#q18\n",
    "def extrapolate_error(agency, y1, y2, y3):\n",
    "    expected = extrapolate(agency, y1, y2, y3)\n",
    "    result   = proj.get_spending(agency, y3)\n",
    "    return expected - result #calc error\n",
    "\n",
    "extrapolate_error(gyms_id, 2018, 2019, 2020)\n",
    "    "
   ]
  },
  {
   "cell_type": "code",
   "execution_count": 21,
   "metadata": {},
   "outputs": [
    {
     "data": {
      "text/plain": [
       "-1.7977023315859557"
      ]
     },
     "execution_count": 21,
     "metadata": {},
     "output_type": "execute_result"
    }
   ],
   "source": [
    "#q19\n",
    "def extrapolate_perc_error(agency, y1, y2, y3):\n",
    "    error = extrapolate_error(agency, y1, y2, y3) * 100\n",
    "    return error/(proj.get_spending(agency, y3))\n",
    "    \n",
    "extrapolate_perc_error(gov_id, 2017,2019,2020)    "
   ]
  },
  {
   "cell_type": "code",
   "execution_count": 22,
   "metadata": {},
   "outputs": [
    {
     "data": {
      "text/plain": [
       "69.69770863072543"
      ]
     },
     "execution_count": 22,
     "metadata": {},
     "output_type": "execute_result"
    }
   ],
   "source": [
    "#q20\n",
    "\n",
    "#calculate the squared deviation of the passed data\n",
    "def sq_dev(data):\n",
    "    mean = stats.mean(data)\n",
    "    devs = [None] * len(data)\n",
    "    for i in range(len(data)):\n",
    "        devs[i] = (data[i]-mean)**2\n",
    "    return devs\n",
    "\n",
    "#get the data spent for the agency\n",
    "sh = [0,0,0,0]\n",
    "for i,j in zip(range(2017, 2021), range(0,4)):\n",
    "    sh[j] = proj.get_spending(stores_id, i)\n",
    "\n",
    "#calulate the devations and the variance\n",
    "devs = sq_dev(sh)\n",
    "variance = math.sqrt(sum(devs)/len(devs))\n",
    "\n",
    "variance"
   ]
  }
 ],
 "metadata": {
  "kernelspec": {
   "display_name": "Python 3",
   "language": "python",
   "name": "python3"
  },
  "language_info": {
   "codemirror_mode": {
    "name": "ipython",
    "version": 3
   },
   "file_extension": ".py",
   "mimetype": "text/x-python",
   "name": "python",
   "nbconvert_exporter": "python",
   "pygments_lexer": "ipython3",
   "version": "3.8.5"
  }
 },
 "nbformat": 4,
 "nbformat_minor": 4
}
