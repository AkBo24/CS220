{
 "cells": [
  {
   "cell_type": "code",
   "execution_count": null,
   "metadata": {},
   "outputs": [],
   "source": [
    "# project: p6\n",
    "# submitter: bodla\n",
    "# partner: kksun"
   ]
  },
  {
   "cell_type": "code",
   "execution_count": null,
   "metadata": {},
   "outputs": [],
   "source": [
    "import csv"
   ]
  },
  {
   "cell_type": "code",
   "execution_count": 3,
   "metadata": {},
   "outputs": [
    {
     "name": "stdout",
     "output_type": "stream",
     "text": [
      "['room_id', 'name', 'host_id', 'host_name', 'neighborhood_group', 'neighborhood', 'latitude', 'longitude', 'room_type', 'price', 'minimum_nights', 'number_of_reviews', 'last_review', 'reviews_per_month', 'calculated_host_listings_count', 'availability_365']\n"
     ]
    }
   ],
   "source": [
    "#read in data\n",
    "def read_data(filepath):\n",
    "    try:\n",
    "        file = open(filepath, encoding = \"utf-8\")\n",
    "    except:\n",
    "        print(\"not working\")\n",
    "    file_reader = csv.reader(file)\n",
    "    file_data   = list(file_reader)\n",
    "    file.close()\n",
    "    return file_data\n",
    "\n",
    "#separate csv by header and data\n",
    "air_bnb = read_data(\"./airbnb.csv\")\n",
    "ab_h, ab_d  = (air_bnb[0], air_bnb[1:])\n",
    "print(ab_h)"
   ]
  },
  {
   "cell_type": "code",
   "execution_count": 4,
   "metadata": {},
   "outputs": [
    {
     "data": {
      "text/plain": [
       "['Brooklyn', 'Manhattan', 'Queens', 'Staten Island', 'Bronx']"
      ]
     },
     "execution_count": 4,
     "metadata": {},
     "output_type": "execute_result"
    }
   ],
   "source": [
    "#q1\n",
    "neighbor_grps = [None] #prepopulate with non, then remove at the end\n",
    "\n",
    "for i in ab_d:\n",
    "    group = i[ab_h.index('neighborhood_group')]\n",
    "    if(group not in neighbor_grps):\n",
    "        neighbor_grps.append(group)\n",
    "#     print(i[ab_h.index('neighborhood_group')])\n",
    "\n",
    "neighbor_grps = neighbor_grps[1:]\n",
    "neighbor_grps"
   ]
  },
  {
   "cell_type": "code",
   "execution_count": 5,
   "metadata": {},
   "outputs": [
    {
     "data": {
      "text/plain": [
       "152.7206871868289"
      ]
     },
     "execution_count": 5,
     "metadata": {},
     "output_type": "execute_result"
    }
   ],
   "source": [
    "#q2\n",
    "avg_price = []\n",
    "\n",
    "for i in ab_d:\n",
    "    price = i[ab_h.index(\"price\")]\n",
    "    if(price != None):\n",
    "        avg_price.append(int(price))\n",
    "\n",
    "sum(avg_price) / len(avg_price)"
   ]
  },
  {
   "cell_type": "code",
   "execution_count": 6,
   "metadata": {},
   "outputs": [
    {
     "data": {
      "text/plain": [
       "True"
      ]
     },
     "execution_count": 6,
     "metadata": {},
     "output_type": "execute_result"
    }
   ],
   "source": [
    "not None"
   ]
  },
  {
   "cell_type": "code",
   "execution_count": 7,
   "metadata": {},
   "outputs": [
    {
     "data": {
      "text/plain": [
       "368"
      ]
     },
     "execution_count": 7,
     "metadata": {},
     "output_type": "execute_result"
    }
   ],
   "source": [
    "#q3\n",
    "count = 0\n",
    "for i in ab_d:\n",
    "    room = i[ab_h.index(\"neighborhood\")]\n",
    "    count += 1 if room and room == \"Chinatown\" else 0\n",
    "\n",
    "count"
   ]
  },
  {
   "cell_type": "code",
   "execution_count": 8,
   "metadata": {},
   "outputs": [
    {
     "data": {
      "text/plain": [
       "['UWS MANHATTAN APT FOR SUPERBOWL WE',\n",
       " 'SuperBowl West Village Apartment',\n",
       " 'SUPERBOWL!! 2 Bd, 2 Ba w Roof Deck!',\n",
       " '1500 sq ft apt sleeps 8 - SuperBowl',\n",
       " 'Superbowl Studio Upper West Side',\n",
       " '1BR Superbowl rental Hells Kitchen',\n",
       " 'Superbowl - NYC Apartment',\n",
       " 'Tribeca Loft for Superbowl Wknd',\n",
       " 'NYC SuperBowl Wk 5 Bdrs River View ',\n",
       " 'Downtown NY Apt - SuperBowl Weekend',\n",
       " 'SuperBowl Penthouse Loft 3,000 sqft',\n",
       " 'Superbowl in the West Village',\n",
       " 'SUPERBOWLSUNDAY! 3BLOCK FROM TIMESQ',\n",
       " 'Super Apt for Superbowl',\n",
       " 'PERFECT SUPERBOWL STAY',\n",
       " 'MANHATTAN SUPERBOWL ACCOMODATION',\n",
       " 'SuperBowl Weekend Rental! 3 BR/1ba']"
      ]
     },
     "execution_count": 8,
     "metadata": {},
     "output_type": "execute_result"
    }
   ],
   "source": [
    "#q4\n",
    "names = []\n",
    "for i in ab_d:\n",
    "    name   = i[ab_h.index(\"name\")]\n",
    "    if(\"superbowl\" in name.lower()):\n",
    "        names.append(name)\n",
    "names"
   ]
  },
  {
   "cell_type": "code",
   "execution_count": 9,
   "metadata": {},
   "outputs": [
    {
     "data": {
      "text/plain": [
       "['Dream Room in Sunnyside New York',\n",
       " 'The Dream Room near Barclays Center',\n",
       " 'Dream Room in Modern Apartment',\n",
       " 'Lower East Dream Room!',\n",
       " 'The Dream Room (Private Room)',\n",
       " 'DREAM ROOM: gorgegous renovated 1bd, 1 bath',\n",
       " 'Exclusive Dream room 8 mins from JFK Smoking OK!',\n",
       " 'King Size Dream Room',\n",
       " 'KingSize Dream Room']"
      ]
     },
     "execution_count": 9,
     "metadata": {},
     "output_type": "execute_result"
    }
   ],
   "source": [
    "#q5\n",
    "names = []\n",
    "for i in ab_d:\n",
    "    name   = i[ab_h.index(\"name\")]\n",
    "    if(\"dream room\" in name.lower()):\n",
    "        names.append(name)\n",
    "names"
   ]
  },
  {
   "cell_type": "code",
   "execution_count": 10,
   "metadata": {},
   "outputs": [
    {
     "data": {
      "text/plain": [
       "['One Bedroom Mini studio - Free WIFI',\n",
       " 'Great Chelsea Location, Couch/2nd bed, Free WiFi',\n",
       " 'Private 2 BR APT: Free WIFI & JACUZZI',\n",
       " 'PRIVATE 1BR APT: Free WIFI & DIRECT TV',\n",
       " 'Landmark 1 Bedroom has 2 beds, Free WiFi',\n",
       " 'Modern and Safe Place,Free Wifi',\n",
       " 'Newly renovated 2 bedroom with FREE WIFI',\n",
       " '*NO GUEST SERVICE FEE* Beekman Tower Studio with Queen Bed & Free Wifi',\n",
       " '*NO GUEST SERVICE FEE* Beekman Tower One Bedroom Suite with Queen Bed & Free Wifi',\n",
       " 'Sunny Hudson Yards/ Chelsea Studio, Free WiFi',\n",
       " 'Private Bedroom in MANHATTAN (Free Wifi)',\n",
       " 'J- LUXURY SHARED ROOM, AC FREE WIFI+CABLE GARDEN',\n",
       " 'J- *LUXURY SHARED ROOM AC FREE WIFI CABLE, GARDEN',\n",
       " 'J- **LUXURY SHARED ROOM 2PPL FREE WIFI+CABLE+AC',\n",
       " '5min walk to L train - Free WiFi & Cleaning',\n",
       " 'J- HOTEL STYLE SHARE ROOM FOR 2PPL FREE WIFI CABLE',\n",
       " 'Explore NYC From Our Private Studio w/Free Wifi',\n",
       " 'Staten Island - Free Wifi, Parking Space, Near NYC',\n",
       " 'BIG BEDROOM CLOSE TO LA GUARDIA AIRPORT FREE WIFI',\n",
       " 'J- COZY ROOM FOR 1 FEMALE FREE WIFI & COFFEE']"
      ]
     },
     "execution_count": 10,
     "metadata": {},
     "output_type": "execute_result"
    }
   ],
   "source": [
    "#q6\n",
    "names = []\n",
    "for i in ab_d:\n",
    "    name   = i[ab_h.index(\"name\")]\n",
    "    if(\"free wifi\" in name.lower()):\n",
    "        names.append(name)\n",
    "names"
   ]
  },
  {
   "cell_type": "code",
   "execution_count": 11,
   "metadata": {},
   "outputs": [
    {
     "data": {
      "text/plain": [
       "['Yolande']"
      ]
     },
     "execution_count": 11,
     "metadata": {},
     "output_type": "execute_result"
    }
   ],
   "source": [
    "#q7\n",
    "landeyo = (\"landeyo\")\n",
    "# print(landeyo)\n",
    "# landeyo == {'d', 'o', 'n', 'e', 'y', 'l', 'a', 'o'}\n",
    "\n",
    "hosts = []\n",
    "for i in ab_d:\n",
    "    host   = i[ab_h.index(\"host_name\")]\n",
    "    if(sorted(host.lower()) == sorted(landeyo)):\n",
    "        hosts.append(host)\n",
    "hosts"
   ]
  },
  {
   "cell_type": "code",
   "execution_count": 12,
   "metadata": {},
   "outputs": [
    {
     "data": {
      "text/plain": [
       "['568684',\n",
       " '1615764',\n",
       " '4204302',\n",
       " '5431845',\n",
       " '6169897',\n",
       " '8341919',\n",
       " '8668115',\n",
       " '10053943',\n",
       " '11096888',\n",
       " '12888849',\n",
       " '20990053',\n",
       " '27362309',\n",
       " '30378211',\n",
       " '35834935']"
      ]
     },
     "execution_count": 12,
     "metadata": {},
     "output_type": "execute_result"
    }
   ],
   "source": [
    "#q8\n",
    "ids = []\n",
    "for i in ab_d:\n",
    "    min_nights   = int(i[ab_h.index(\"minimum_nights\")])\n",
    "    \n",
    "    if(min_nights > 365):\n",
    "        ids.append(i[ab_h.index(\"room_id\")])\n",
    "ids"
   ]
  },
  {
   "cell_type": "code",
   "execution_count": 13,
   "metadata": {},
   "outputs": [
    {
     "data": {
      "text/plain": [
       "['1475015',\n",
       " '7503643',\n",
       " '16098958',\n",
       " '30283594',\n",
       " '61391963',\n",
       " '22541573',\n",
       " '107434423',\n",
       " '12243051',\n",
       " '137358866',\n",
       " '200380610',\n",
       " '219517861']"
      ]
     },
     "execution_count": 13,
     "metadata": {},
     "output_type": "execute_result"
    }
   ],
   "source": [
    "#q9\n",
    "# calculated_host_listings_count > 50\n",
    "listings = []\n",
    "for i in ab_d:\n",
    "    list_cnt = int(i[ab_h.index(\"calculated_host_listings_count\")])\n",
    "    host_id  = (i[ab_h.index(\"host_id\")])\n",
    "    if(list_cnt > 50 and host_id not in set(listings)):\n",
    "        listings.append(host_id)\n",
    "listings"
   ]
  },
  {
   "cell_type": "code",
   "execution_count": 14,
   "metadata": {},
   "outputs": [
    {
     "data": {
      "text/plain": [
       "['Huge Brooklyn Brownstone Living, Close to it all.',\n",
       " 'MARTIAL LOFT 3: REDEMPTION (upstairs, 2nd room)',\n",
       " 'Sunny, Quiet Room in Greenpoint',\n",
       " 'Modern apartment in the heart of Williamsburg',\n",
       " 'Spacious comfortable master bedroom with nice view',\n",
       " 'Contemporary bedroom in brownstone with nice view',\n",
       " 'Cozy yet spacious private brownstone bedroom',\n",
       " 'Coliving in Brooklyn! Modern design / Shared room',\n",
       " 'Best Coliving space ever! Shared room.']"
      ]
     },
     "execution_count": 14,
     "metadata": {},
     "output_type": "execute_result"
    }
   ],
   "source": [
    "#q10\n",
    "\n",
    "#loop1: find all rooms with brooklyn\n",
    "#loop2: find the cheapest room\n",
    "def find_cheapest(group):\n",
    "    brook_prices = {}\n",
    "    for i in ab_d:\n",
    "        neighborhood_group = i[ab_h.index(\"neighborhood_group\")]\n",
    "        prices  = int(i[ab_h.index(\"price\")])\n",
    "        name    = i[ab_h.index(\"name\")]\n",
    "        if(neighborhood_group == group):\n",
    "            brook_prices[name] = prices\n",
    "\n",
    "\n",
    "    cheapest = min(brook_prices.values())\n",
    "    cheap    = []\n",
    "    for room in brook_prices.items():\n",
    "        if(room[1] == cheapest):\n",
    "            cheap.append(room[0])\n",
    "    return cheap\n",
    "    \n",
    "find_cheapest(\"Brooklyn\")"
   ]
  },
  {
   "cell_type": "code",
   "execution_count": 15,
   "metadata": {},
   "outputs": [
    {
     "data": {
      "text/plain": [
       "['the best you can find']"
      ]
     },
     "execution_count": 15,
     "metadata": {},
     "output_type": "execute_result"
    }
   ],
   "source": [
    "#q11\n",
    "find_cheapest(\"Manhattan\")"
   ]
  },
  {
   "cell_type": "code",
   "execution_count": 16,
   "metadata": {},
   "outputs": [
    {
     "data": {
      "text/plain": [
       "1.022127111023942"
      ]
     },
     "execution_count": 16,
     "metadata": {},
     "output_type": "execute_result"
    }
   ],
   "source": [
    "#q12\n",
    "avg_ratios = []\n",
    "\n",
    "for i in ab_d:\n",
    "    availability = int(i[ab_h.index(\"availability_365\")])\n",
    "    if(availability==0):\n",
    "        continue\n",
    "    reviews = int(i[ab_h.index(\"number_of_reviews\")])\n",
    "    avg_ratios.append(reviews/availability)\n",
    "sum(avg_ratios)/len(avg_ratios)"
   ]
  },
  {
   "cell_type": "code",
   "execution_count": 17,
   "metadata": {},
   "outputs": [
    {
     "data": {
      "text/plain": [
       "['18750597']"
      ]
     },
     "execution_count": 17,
     "metadata": {},
     "output_type": "execute_result"
    }
   ],
   "source": [
    "#q13\n",
    "\n",
    "def is_inside(room, coords):\n",
    "    room_coords = [float(room[ab_h.index(\"latitude\")]), float(room[ab_h.index(\"longitude\")])]\n",
    "    return (coords[0] <= room_coords[0] <= coords[1]) and (coords[2] <= room_coords[1] <= coords[3])\n",
    "\n",
    "def cheap_coord(coords):\n",
    "    rooms = {}\n",
    "    \n",
    "    #Check if the current room is inside the given coordinate range then add to the rooms\n",
    "    for i in ab_d:\n",
    "        if(is_inside(i,coords)):\n",
    "            rooms[i[ab_h.index(\"room_id\")]] = i[ab_h.index(\"price\")]\n",
    "            \n",
    "    cheapest = min(rooms.values())\n",
    "    cheap = []\n",
    "    for i in rooms.items():\n",
    "        if(cheapest == i[1]):\n",
    "            cheap.append(i[0])\n",
    "    return cheap\n",
    "\n",
    "cheap_coord([40.50, 40.75, -74.00 ,-73.95])"
   ]
  },
  {
   "cell_type": "code",
   "execution_count": 18,
   "metadata": {},
   "outputs": [
    {
     "data": {
      "text/plain": [
       "['20333471']"
      ]
     },
     "execution_count": 18,
     "metadata": {},
     "output_type": "execute_result"
    }
   ],
   "source": [
    "#q14\n",
    "cheap_coord([40.75, 41.00, -73.95 ,-73.85])"
   ]
  },
  {
   "cell_type": "code",
   "execution_count": 19,
   "metadata": {},
   "outputs": [
    {
     "data": {
      "text/plain": [
       "105.51515151515152"
      ]
     },
     "execution_count": 19,
     "metadata": {},
     "output_type": "execute_result"
    }
   ],
   "source": [
    "#q15\n",
    "review_300 = []\n",
    "\n",
    "for i in ab_d:\n",
    "    reviews = int(i[ab_h.index(\"number_of_reviews\")])\n",
    "    if(reviews > 300):\n",
    "        review_300.append(float(i[ab_h.index(\"price\")]))\n",
    "sum(review_300) / len(review_300)"
   ]
  },
  {
   "cell_type": "code",
   "execution_count": 20,
   "metadata": {},
   "outputs": [
    {
     "data": {
      "text/plain": [
       "6.410041841004184"
      ]
     },
     "execution_count": 20,
     "metadata": {},
     "output_type": "execute_result"
    }
   ],
   "source": [
    "#q16\n",
    "price_1000 = []\n",
    "\n",
    "for i in ab_d:\n",
    "    price = float(i[ab_h.index(\"price\")])\n",
    "    if(price > 1000):\n",
    "        price_1000.append(int(i[ab_h.index(\"number_of_reviews\")]))\n",
    "        \n",
    "sum(price_1000) / len(price_1000)"
   ]
  },
  {
   "cell_type": "code",
   "execution_count": 31,
   "metadata": {},
   "outputs": [
    {
     "data": {
      "text/plain": [
       "30.569948186528496"
      ]
     },
     "execution_count": 31,
     "metadata": {},
     "output_type": "execute_result"
    }
   ],
   "source": [
    "#q17\n",
    "\n",
    "def p_words(word1, word2):\n",
    "    sweet = sweet_home = 0\n",
    "\n",
    "    for i in ab_d:\n",
    "        name  = i[ab_h.index(\"name\")].lower()\n",
    "        sweet += 1  if(word1 in name) else 0\n",
    "        sweet_home += 1 if (word1 in name and word2 in name) else 0\n",
    "    \n",
    "    return sweet_home / sweet * 100\n",
    "\n",
    "p_words(\"sweet\", \"home\")"
   ]
  },
  {
   "cell_type": "code",
   "execution_count": 34,
   "metadata": {},
   "outputs": [
    {
     "data": {
      "text/plain": [
       "48.92086330935252"
      ]
     },
     "execution_count": 34,
     "metadata": {},
     "output_type": "execute_result"
    }
   ],
   "source": [
    "#q18\n",
    "p_words(\"pool\", \"gym\")"
   ]
  },
  {
   "cell_type": "code",
   "execution_count": 36,
   "metadata": {},
   "outputs": [
    {
     "data": {
      "text/plain": [
       "10.0"
      ]
     },
     "execution_count": 36,
     "metadata": {},
     "output_type": "execute_result"
    }
   ],
   "source": [
    "#q19\n",
    "p_words(\"five\", \"stars\" )"
   ]
  },
  {
   "cell_type": "code",
   "execution_count": 44,
   "metadata": {},
   "outputs": [
    {
     "data": {
      "text/plain": [
       "350000.0"
      ]
     },
     "execution_count": 44,
     "metadata": {},
     "output_type": "execute_result"
    }
   ],
   "source": [
    "#q20\n",
    "def find_costliest(group):\n",
    "    prices_nights = [0,0]\n",
    "    \n",
    "    for i in ab_d:\n",
    "        price = float(i[ab_h.index(\"price\")])\n",
    "        if (i[ab_h.index(\"neighborhood_group\")] == group) and prices_nights[0] < price:\n",
    "            prices_nights = [price, float(i[ab_h.index(\"minimum_nights\")])]\n",
    "    return prices_nights\n",
    "\n",
    "manhattan = find_costliest(\"Manhattan\")\n",
    "brooklyn  = find_costliest(\"Brooklyn\")\n",
    "\n",
    "int(manhattan[0]*manhattan[1] + brooklyn[0]*brooklyn[1])"
   ]
  }
 ],
 "metadata": {
  "kernelspec": {
   "display_name": "Python 3",
   "language": "python",
   "name": "python3"
  },
  "language_info": {
   "codemirror_mode": {
    "name": "ipython",
    "version": 3
   },
   "file_extension": ".py",
   "mimetype": "text/x-python",
   "name": "python",
   "nbconvert_exporter": "python",
   "pygments_lexer": "ipython3",
   "version": "3.9.0"
  }
 },
 "nbformat": 4,
 "nbformat_minor": 4
}
