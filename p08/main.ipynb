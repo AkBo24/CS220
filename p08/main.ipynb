{
 "cells": [
  {
   "cell_type": "code",
   "execution_count": 1,
   "metadata": {},
   "outputs": [],
   "source": [
    "#project: p8\n",
    "#submitter: bodla\n",
    "#partner: kksun"
   ]
  },
  {
   "cell_type": "code",
   "execution_count": 3,
   "metadata": {},
   "outputs": [],
   "source": [
    "import csv\n",
    "import copy"
   ]
  },
  {
   "cell_type": "code",
   "execution_count": 3,
   "metadata": {},
   "outputs": [],
   "source": [
    "#read in data\n",
    "def read_csv(filedir):\n",
    "    try:\n",
    "        data = open(filedir, encoding = \"utf-8\")\n",
    "    except:\n",
    "        raise \"File can not be opened\"\n",
    "    csv_reader = csv.reader(data)\n",
    "    csv_data   = list(csv_reader)\n",
    "    data.close()\n",
    "    \n",
    "    return csv_data"
   ]
  },
  {
   "cell_type": "code",
   "execution_count": 4,
   "metadata": {},
   "outputs": [],
   "source": [
    "#Data Plumbing Functions\n",
    "def get_mapping(path):\n",
    "    mapping  = read_csv(path)\n",
    "    map_dict = {}\n",
    "    \n",
    "    #iterate through the data & add the id/name to the dict\n",
    "    for i in mapping:\n",
    "        map_dict[i[0]] = i[1]\n",
    "    return map_dict\n",
    "    \n",
    "def get_raw_movies(path):\n",
    "    movies = read_csv(path)\n",
    "    movie_h, movie_d = (movies[0], movies[1:]) #h-> header, d->data\n",
    "    \n",
    "    #iterate through the data and append each movie data as a dict\n",
    "    #'title', 'year', 'rating', 'directors', 'actors', and 'genres'\n",
    "    movies   = []\n",
    "    \n",
    "    for curr_movie in movie_d:\n",
    "        movie_dict = {}\n",
    "        \n",
    "        # i iterates through the column of the curr_movie\n",
    "        i = 0\n",
    "        for header in movie_h:\n",
    "            movie_dict[header] = curr_movie[i]\n",
    "            i += 1\n",
    "            \n",
    "        movies.append(movie_dict)\n",
    "    return movies\n",
    "    \n",
    "\n",
    "def get_movies(movies_path, mapping_path):\n",
    "    movies  = get_raw_movies(movies_path)\n",
    "    mapping = get_mapping(mapping_path)\n",
    "    \n",
    "    \n",
    "    for movie in movies:\n",
    "        #----------------- convert the title ----------------------------------------- #\n",
    "        movie[\"title\"] = mapping[movie[\"title\"]]\n",
    "        \n",
    "        #-----------------  convert the director string into names by first converting them into lists------------ #\n",
    "        \n",
    "        movie[\"directors\"] = movie[\"directors\"].split(\",\")\n",
    "        \n",
    "        #for each director get the ID from the mapping dict\n",
    "        for i in range(len(movie[\"directors\"])):\n",
    "            movie[\"directors\"][i] = mapping[movie[\"directors\"][i]]\n",
    "        \n",
    "        #-----------------  convert the actor string into names by first converting them into lists--------------- #\n",
    "        movie[\"actors\"] = movie[\"actors\"].split(\",\")\n",
    "        \n",
    "        #for each actor get the ID from the mapping dict\n",
    "        for i in range(len(movie[\"actors\"])):\n",
    "            movie[\"actors\"][i] = mapping[movie[\"actors\"][i]]\n",
    "            \n",
    "        #converting year and rating into appropriate types\n",
    "        movie[\"year\"]   = int(movie[\"year\"])\n",
    "        movie[\"rating\"] = float(movie[\"rating\"])\n",
    "            \n",
    "    return movies\n",
    "    "
   ]
  },
  {
   "cell_type": "code",
   "execution_count": 5,
   "metadata": {},
   "outputs": [
    {
     "data": {
      "text/plain": [
       "{'nm0000131': 'John Cusack',\n",
       " 'nm0000154': 'Mel Gibson',\n",
       " 'nm0000163': 'Dustin Hoffman',\n",
       " 'nm0000418': 'Danny Glover',\n",
       " 'nm0000432': 'Gene Hackman',\n",
       " 'nm0000997': 'Gary Busey',\n",
       " 'nm0001149': 'Richard Donner',\n",
       " 'nm0001219': 'Gary Fleder',\n",
       " 'nm0752751': 'Mitchell Ryan',\n",
       " 'tt0313542': 'Runaway Jury',\n",
       " 'tt0093409': 'Lethal Weapon'}"
      ]
     },
     "execution_count": 5,
     "metadata": {},
     "output_type": "execute_result"
    }
   ],
   "source": [
    "#q1\n",
    "small_mapping_dict = get_mapping(\"small_mapping.csv\")\n",
    "small_mapping_dict"
   ]
  },
  {
   "cell_type": "code",
   "execution_count": 6,
   "metadata": {},
   "outputs": [
    {
     "data": {
      "text/plain": [
       "'Gary Fleder'"
      ]
     },
     "execution_count": 6,
     "metadata": {},
     "output_type": "execute_result"
    }
   ],
   "source": [
    "#q2\n",
    "small_mapping_dict[\"nm0001219\"]"
   ]
  },
  {
   "cell_type": "code",
   "execution_count": 7,
   "metadata": {},
   "outputs": [
    {
     "data": {
      "text/plain": [
       "['John Cusack',\n",
       " 'Mel Gibson',\n",
       " 'Dustin Hoffman',\n",
       " 'Danny Glover',\n",
       " 'Gene Hackman',\n",
       " 'Gary Busey',\n",
       " 'Richard Donner',\n",
       " 'Gary Fleder',\n",
       " 'Mitchell Ryan']"
      ]
     },
     "execution_count": 7,
     "metadata": {},
     "output_type": "execute_result"
    }
   ],
   "source": [
    "#q3\n",
    "nm = []\n",
    "for id_, actor in small_mapping_dict.items():\n",
    "    if \"nm\" in id_:\n",
    "        nm.append(actor)\n",
    "nm"
   ]
  },
  {
   "cell_type": "code",
   "execution_count": 8,
   "metadata": {},
   "outputs": [
    {
     "data": {
      "text/plain": [
       "['nm0000997', 'nm0001219']"
      ]
     },
     "execution_count": 8,
     "metadata": {},
     "output_type": "execute_result"
    }
   ],
   "source": [
    "#q4\n",
    "gary = []\n",
    "\n",
    "for id_, actor in small_mapping_dict.items():\n",
    "    #check if gary is in the first name of the actor\n",
    "    if \"gary\" in actor.lower()[0:actor.index(\" \")]:\n",
    "        gary.append(id_)\n",
    "gary"
   ]
  },
  {
   "cell_type": "code",
   "execution_count": 9,
   "metadata": {},
   "outputs": [
    {
     "data": {
      "text/plain": [
       "[{'title': 'tt0313542',\n",
       "  'year': '2003',\n",
       "  'rating': '7.1',\n",
       "  'directors': 'nm0001219',\n",
       "  'actors': 'nm0000131,nm0000432,nm0000163',\n",
       "  'genres': 'Crime,Drama,Thriller'},\n",
       " {'title': 'tt0093409',\n",
       "  'year': '1987',\n",
       "  'rating': '7.6',\n",
       "  'directors': 'nm0001149',\n",
       "  'actors': 'nm0000154,nm0000418,nm0000997,nm0752751',\n",
       "  'genres': 'Action,Crime,Thriller'}]"
      ]
     },
     "execution_count": 9,
     "metadata": {},
     "output_type": "execute_result"
    }
   ],
   "source": [
    "#q5\n",
    "small_movies_list = get_raw_movies(\"small_movies.csv\")\n",
    "small_movies_list"
   ]
  },
  {
   "cell_type": "code",
   "execution_count": 10,
   "metadata": {},
   "outputs": [
    {
     "data": {
      "text/plain": [
       "4"
      ]
     },
     "execution_count": 10,
     "metadata": {},
     "output_type": "execute_result"
    }
   ],
   "source": [
    "#q6\n",
    "#get the actors then split the string by the delimiter \",\" and count the # of items in the resulting list\n",
    "len(small_movies_list[1][\"actors\"].split(\",\"))"
   ]
  },
  {
   "cell_type": "code",
   "execution_count": 11,
   "metadata": {},
   "outputs": [
    {
     "data": {
      "text/plain": [
       "'nm0000163'"
      ]
     },
     "execution_count": 11,
     "metadata": {},
     "output_type": "execute_result"
    }
   ],
   "source": [
    "#q7\n",
    "small_movies_list[0][\"actors\"].split(\",\").pop()"
   ]
  },
  {
   "cell_type": "code",
   "execution_count": 12,
   "metadata": {},
   "outputs": [
    {
     "data": {
      "text/plain": [
       "[{'title': 'Runaway Jury',\n",
       "  'year': 2003,\n",
       "  'rating': 7.1,\n",
       "  'directors': ['Gary Fleder'],\n",
       "  'actors': ['John Cusack', 'Gene Hackman', 'Dustin Hoffman'],\n",
       "  'genres': 'Crime,Drama,Thriller'},\n",
       " {'title': 'Lethal Weapon',\n",
       "  'year': 1987,\n",
       "  'rating': 7.6,\n",
       "  'directors': ['Richard Donner'],\n",
       "  'actors': ['Mel Gibson', 'Danny Glover', 'Gary Busey', 'Mitchell Ryan'],\n",
       "  'genres': 'Action,Crime,Thriller'}]"
      ]
     },
     "execution_count": 12,
     "metadata": {},
     "output_type": "execute_result"
    }
   ],
   "source": [
    "#q8\n",
    "small = get_movies(\"small_movies.csv\", \"small_mapping.csv\")\n",
    "small"
   ]
  },
  {
   "cell_type": "code",
   "execution_count": 13,
   "metadata": {},
   "outputs": [
    {
     "data": {
      "text/plain": [
       "'Lethal Weapon'"
      ]
     },
     "execution_count": 13,
     "metadata": {},
     "output_type": "execute_result"
    }
   ],
   "source": [
    "#q9\n",
    "small[1][\"title\"]"
   ]
  },
  {
   "cell_type": "code",
   "execution_count": 14,
   "metadata": {},
   "outputs": [
    {
     "data": {
      "text/plain": [
       "['Mel Gibson', 'Danny Glover', 'Gary Busey', 'Mitchell Ryan']"
      ]
     },
     "execution_count": 14,
     "metadata": {},
     "output_type": "execute_result"
    }
   ],
   "source": [
    "#q10\n",
    "small[1][\"actors\"]"
   ]
  },
  {
   "cell_type": "code",
   "execution_count": 15,
   "metadata": {},
   "outputs": [
    {
     "data": {
      "text/plain": [
       "['Richard Donner']"
      ]
     },
     "execution_count": 15,
     "metadata": {},
     "output_type": "execute_result"
    }
   ],
   "source": [
    "#q11\n",
    "small[-1][\"directors\"]"
   ]
  },
  {
   "cell_type": "code",
   "execution_count": 16,
   "metadata": {},
   "outputs": [
    {
     "data": {
      "text/plain": [
       "[{'title': 'Tycoon',\n",
       "  'year': 1947,\n",
       "  'rating': 6.3,\n",
       "  'directors': ['Richard Wallace'],\n",
       "  'actors': ['John Wayne', 'Cedric Hardwicke'],\n",
       "  'genres': 'Adventure,Drama,Romance'},\n",
       " {'title': '7th Cavalry',\n",
       "  'year': 1956,\n",
       "  'rating': 5.9,\n",
       "  'directors': ['Joseph H. Lewis'],\n",
       "  'actors': ['Randolph Scott', 'Jay C. Flippen', 'Frank Faylen'],\n",
       "  'genres': 'Western'},\n",
       " {'title': '7 Men from Now',\n",
       "  'year': 1956,\n",
       "  'rating': 7.5,\n",
       "  'directors': ['Budd Boetticher'],\n",
       "  'actors': ['Randolph Scott', 'Lee Marvin', 'Walter Reed'],\n",
       "  'genres': 'Action,Western'}]"
      ]
     },
     "execution_count": 16,
     "metadata": {},
     "output_type": "execute_result"
    }
   ],
   "source": [
    "#q12\n",
    "movies = get_movies(\"movies.csv\", \"mapping.csv\")\n",
    "movies[87:90]"
   ]
  },
  {
   "cell_type": "code",
   "execution_count": 17,
   "metadata": {},
   "outputs": [
    {
     "data": {
      "text/plain": [
       "[{'title': 'The Steam Experiment',\n",
       "  'year': 2009,\n",
       "  'rating': 4.0,\n",
       "  'directors': ['Philippe Martinez'],\n",
       "  'actors': ['Val Kilmer', 'Armand Assante', 'Eric Roberts'],\n",
       "  'genres': 'Mystery,Thriller'},\n",
       " {'title': 'The Disappearance of Flight 412',\n",
       "  'year': 1974,\n",
       "  'rating': 4.8,\n",
       "  'directors': ['Jud Taylor'],\n",
       "  'actors': ['Glenn Ford',\n",
       "   'Bradford Dillman',\n",
       "   'David Soul',\n",
       "   'Robert F. Lyons'],\n",
       "  'genres': 'Drama,Mystery,Sci-Fi'},\n",
       " {'title': 'Fortitude and Glory: Angelo Dundee and His Fighters',\n",
       "  'year': 2012,\n",
       "  'rating': 7.2,\n",
       "  'directors': ['Chris Tasara'],\n",
       "  'actors': ['Angelo Dundee', 'George Foreman', 'Freddie Roach'],\n",
       "  'genres': 'Sport'},\n",
       " {'title': 'Ivanhoe',\n",
       "  'year': 1952,\n",
       "  'rating': 6.8,\n",
       "  'directors': ['Richard Thorpe'],\n",
       "  'actors': ['Robert Taylor', 'George Sanders'],\n",
       "  'genres': 'Adventure,Drama,History'},\n",
       " {'title': 'The Great Gatsby',\n",
       "  'year': 1949,\n",
       "  'rating': 6.6,\n",
       "  'directors': ['Elliott Nugent'],\n",
       "  'actors': ['Alan Ladd', 'Macdonald Carey'],\n",
       "  'genres': 'Drama'}]"
      ]
     },
     "execution_count": 17,
     "metadata": {},
     "output_type": "execute_result"
    }
   ],
   "source": [
    "#q13\n",
    "movies[-5:]"
   ]
  },
  {
   "cell_type": "code",
   "execution_count": 18,
   "metadata": {},
   "outputs": [
    {
     "data": {
      "text/plain": [
       "22"
      ]
     },
     "execution_count": 18,
     "metadata": {},
     "output_type": "execute_result"
    }
   ],
   "source": [
    "#q14\n",
    "# you are not allowed to change this function\n",
    "def filter_movies_by_year(movies, year):\n",
    "#     print(movies)\n",
    "    i = 0\n",
    "    while i < len(movies):\n",
    "        if movies[i][\"year\"] != year:\n",
    "            movies.pop(i)\n",
    "        else:\n",
    "            i += 1\n",
    "    return movies\n",
    "len(filter_movies_by_year(copy.deepcopy(movies), 1949))"
   ]
  },
  {
   "cell_type": "code",
   "execution_count": 19,
   "metadata": {},
   "outputs": [
    {
     "data": {
      "text/plain": [
       "[{'title': \"Santa Claus Is Comin' to Town\",\n",
       "  'year': 1970,\n",
       "  'rating': 7.8,\n",
       "  'directors': ['Jules Bass', 'Arthur Rankin Jr.'],\n",
       "  'actors': ['Fred Astaire', 'Mickey Rooney', 'Keenan Wynn', 'Paul Frees'],\n",
       "  'genres': 'Adventure,Animation,Comedy'},\n",
       " {'title': 'The Brotherhood of the Bell',\n",
       "  'year': 1970,\n",
       "  'rating': 7.3,\n",
       "  'directors': ['Paul Wendkos'],\n",
       "  'actors': ['Glenn Ford', 'Dean Jagger', 'Maurice Evans'],\n",
       "  'genres': 'Drama,Thriller'}]"
      ]
     },
     "execution_count": 19,
     "metadata": {},
     "output_type": "execute_result"
    }
   ],
   "source": [
    "#q15\n",
    "movies_1970 = filter_movies_by_year(copy.deepcopy(movies) ,1970)\n",
    "q15 = []\n",
    "\n",
    "for curr_movies_1970 in movies_1970:\n",
    "    if curr_movies_1970[\"rating\"] > 7.0:\n",
    "        q15.append(curr_movies_1970)\n",
    "q15"
   ]
  },
  {
   "cell_type": "code",
   "execution_count": 20,
   "metadata": {},
   "outputs": [
    {
     "data": {
      "text/plain": [
       "18"
      ]
     },
     "execution_count": 20,
     "metadata": {},
     "output_type": "execute_result"
    }
   ],
   "source": [
    "#q16\n",
    "\n",
    "#function for finding unique\n",
    "def find_unique_num(movies, column):\n",
    "    \n",
    "    #use list to keep track of unique genres\n",
    "    unique = []\n",
    "    for curr_movie in movies:\n",
    "\n",
    "        #split the col, they have different types so check if we can split (genre is a string)\n",
    "        try:\n",
    "            movie_col = curr_movie[column].split(\",\")\n",
    "        except AttributeError:\n",
    "            if isinstance(curr_movie[column], list):\n",
    "                movie_col = curr_movie[column]\n",
    "        \n",
    "        #iterate through movie_col and update unique accordingly\n",
    "        for col in movie_col:\n",
    "            if(col not in unique):\n",
    "                unique.append(col)\n",
    "    return len(unique)\n",
    "    \n",
    "find_unique_num(movies, \"genres\")"
   ]
  },
  {
   "cell_type": "code",
   "execution_count": 21,
   "metadata": {},
   "outputs": [
    {
     "data": {
      "text/plain": [
       "2605"
      ]
     },
     "execution_count": 21,
     "metadata": {},
     "output_type": "execute_result"
    }
   ],
   "source": [
    "#q17\n",
    "find_unique_num(movies, \"actors\")"
   ]
  },
  {
   "cell_type": "code",
   "execution_count": 22,
   "metadata": {},
   "outputs": [
    {
     "data": {
      "text/plain": [
       "1247"
      ]
     },
     "execution_count": 22,
     "metadata": {},
     "output_type": "execute_result"
    }
   ],
   "source": [
    "#q18\n",
    "find_unique_num(movies, \"directors\")"
   ]
  },
  {
   "cell_type": "code",
   "execution_count": 23,
   "metadata": {},
   "outputs": [
    {
     "data": {
      "text/plain": [
       "6.401659528907912"
      ]
     },
     "execution_count": 23,
     "metadata": {},
     "output_type": "execute_result"
    }
   ],
   "source": [
    "#q19\n",
    "ratings = []\n",
    "for rating in movies:\n",
    "    ratings.append( rating[\"rating\"] )\n",
    "sum(ratings)/len(ratings)"
   ]
  },
  {
   "cell_type": "code",
   "execution_count": 24,
   "metadata": {},
   "outputs": [
    {
     "data": {
      "text/plain": [
       "'Dr. Strangelove or: How I Learned to Stop Worrying and Love the Bomb'"
      ]
     },
     "execution_count": 24,
     "metadata": {},
     "output_type": "execute_result"
    }
   ],
   "source": [
    "#q20\n",
    "long_title = \"\"\n",
    "for title in movies:\n",
    "    curr_len = (title[\"title\"])\n",
    "    long_title = title[\"title\"] if len(title[\"title\"]) > len(long_title) else long_title\n",
    "long_title"
   ]
  }
 ],
 "metadata": {
  "kernelspec": {
   "display_name": "Python 3",
   "language": "python",
   "name": "python3"
  },
  "language_info": {
   "codemirror_mode": {
    "name": "ipython",
    "version": 3
   },
   "file_extension": ".py",
   "mimetype": "text/x-python",
   "name": "python",
   "nbconvert_exporter": "python",
   "pygments_lexer": "ipython3",
   "version": "3.9.0"
  }
 },
 "nbformat": 4,
 "nbformat_minor": 4
}
