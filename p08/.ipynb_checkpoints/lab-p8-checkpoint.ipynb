{
 "cells": [
  {
   "cell_type": "code",
   "execution_count": 6,
   "metadata": {},
   "outputs": [
    {
     "name": "stdout",
     "output_type": "stream",
     "text": [
      "[4, 3, 2, 1, 0]\n",
      "[4, 3, 2, 1, 0]\n"
     ]
    }
   ],
   "source": [
    "nums = [5,4,3,2,1,0]\n",
    "nums.pop(0)\n",
    "print(nums)\n",
    "nums = [5,4,3,2,1,0]\n",
    "nums.remove(5)\n",
    "print(nums)"
   ]
  },
  {
   "cell_type": "code",
   "execution_count": 8,
   "metadata": {},
   "outputs": [
    {
     "name": "stdout",
     "output_type": "stream",
     "text": [
      "looping over value: 100\n",
      "looping over value: 200\n",
      "looping over value: 300\n",
      "total: 600\n"
     ]
    }
   ],
   "source": [
    "values = [\"100\", \"200\", \"300\"]\n",
    "total = 0\n",
    "\n",
    "for x in values:\n",
    "    print(\"looping over value:\", x)\n",
    "    total += int(x)\n",
    "print(\"total:\", total)"
   ]
  },
  {
   "cell_type": "code",
   "execution_count": null,
   "metadata": {},
   "outputs": [],
   "source": [
    "values = [\"100\", \"200\", \"300\"]\n",
    "\n",
    "for val in range(len(values)):\n",
    "    print(\"looping over index:\", i)\n",
    "    values[i] = int(values[i])\n",
    "\n",
    "print(\"total:\", sum(values))"
   ]
  }
 ],
 "metadata": {
  "kernelspec": {
   "display_name": "Python 3",
   "language": "python",
   "name": "python3"
  },
  "language_info": {
   "codemirror_mode": {
    "name": "ipython",
    "version": 3
   },
   "file_extension": ".py",
   "mimetype": "text/x-python",
   "name": "python",
   "nbconvert_exporter": "python",
   "pygments_lexer": "ipython3",
   "version": "3.9.0"
  }
 },
 "nbformat": 4,
 "nbformat_minor": 4
}
