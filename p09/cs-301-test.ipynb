{
 "cells": [
  {
   "cell_type": "code",
   "execution_count": 1,
   "metadata": {
    "execution": {
     "iopub.execute_input": "2020-11-05T21:26:13.762023Z",
     "iopub.status.busy": "2020-11-05T21:26:13.761277Z",
     "iopub.status.idle": "2020-11-05T21:26:14.168024Z",
     "shell.execute_reply": "2020-11-05T21:26:14.168487Z"
    }
   },
   "outputs": [],
   "source": [
    "import csv\n",
    "import copy \n",
    "import matplotlib\n",
    "import pandas\n",
    "\n",
    "# Allows you to render matplotlib graphs in the same notebook\n",
    "%matplotlib inline \n",
    "\n",
    "def plot_dict(d, label=\"Please Label Me!!!\"):\n",
    "    ax = pandas.Series(d).sort_index().plot.bar(color=\"black\", fontsize=16)\n",
    "    ax.set_ylabel(label, fontsize=16)"
   ]
  },
  {
   "cell_type": "code",
   "execution_count": 2,
   "metadata": {
    "execution": {
     "iopub.execute_input": "2020-11-05T21:26:14.176153Z",
     "iopub.status.busy": "2020-11-05T21:26:14.175614Z",
     "iopub.status.idle": "2020-11-05T21:26:14.177353Z",
     "shell.execute_reply": "2020-11-05T21:26:14.177729Z"
    }
   },
   "outputs": [],
   "source": [
    "#project 8 functions\n",
    "\n",
    "#read in data\n",
    "def read_csv(filedir):\n",
    "    try:\n",
    "        data = open(filedir, encoding = \"utf-8\")\n",
    "    except e:\n",
    "        raise e\n",
    "    csv_reader = csv.reader(data)\n",
    "    csv_data   = list(csv_reader)\n",
    "    data.close()\n",
    "    \n",
    "    return csv_data\n",
    "\n",
    "#Data Plumbing Functions\n",
    "def get_mapping(path):\n",
    "    mapping  = read_csv(path)\n",
    "    map_dict = {}\n",
    "    \n",
    "    #iterate through the data & add the id/name to the dict\n",
    "    for i in mapping:\n",
    "        map_dict[i[0]] = i[1]\n",
    "    return map_dict\n",
    "    \n",
    "def get_raw_movies(path):\n",
    "    movies = read_csv(path)\n",
    "    movie_h, movie_d = (movies[0], movies[1:]) #h-> header, d->data\n",
    "    \n",
    "    #iterate through the data and append each movie data as a dict\n",
    "    #'title', 'year', 'rating', 'directors', 'actors', and 'genres'\n",
    "    movies   = []\n",
    "    \n",
    "    for curr_movie in movie_d:\n",
    "        movie_dict = {}\n",
    "        \n",
    "        # i iterates through the column of the curr_movie\n",
    "        i = 0\n",
    "        for header in movie_h:\n",
    "            movie_dict[header] = curr_movie[i]\n",
    "            i += 1\n",
    "            \n",
    "        movies.append(movie_dict)\n",
    "    return movies\n",
    "    \n",
    "\n",
    "def get_movies(movies_path, mapping_path):\n",
    "    movies  = get_raw_movies(movies_path)\n",
    "    mapping = get_mapping(mapping_path)\n",
    "    \n",
    "    \n",
    "    for movie in movies:\n",
    "        #----------------- convert the title ----------------------------------------- #\n",
    "        movie[\"title\"] = mapping[movie[\"title\"]]\n",
    "        \n",
    "        #-----------------  convert the director string into names by first converting them into lists------------ #\n",
    "        \n",
    "        movie[\"directors\"] = movie[\"directors\"].split(\",\")\n",
    "        \n",
    "        #for each director get the ID from the mapping dict\n",
    "        for i in range(len(movie[\"directors\"])):\n",
    "            movie[\"directors\"][i] = mapping[movie[\"directors\"][i]]\n",
    "        \n",
    "        #-----------------  convert the actor string into names by first converting them into lists--------------- #\n",
    "        movie[\"actors\"] = movie[\"actors\"].split(\",\")\n",
    "        \n",
    "        #for each actor get the ID from the mapping dict\n",
    "        for i in range(len(movie[\"actors\"])):\n",
    "            movie[\"actors\"][i] = mapping[movie[\"actors\"][i]]\n",
    "            \n",
    "        #converting year and rating into appropriate types\n",
    "        movie[\"year\"]   = int(movie[\"year\"])\n",
    "        movie[\"rating\"] = float(movie[\"rating\"])\n",
    "        \n",
    "        #-----------------  convert the genre string into a list--------------- #\n",
    "        movie[\"genres\"] = movie[\"genres\"].split(',')\n",
    "    return movies\n",
    "    "
   ]
  },
  {
   "cell_type": "code",
   "execution_count": 3,
   "metadata": {
    "execution": {
     "iopub.execute_input": "2020-11-05T21:26:14.182156Z",
     "iopub.status.busy": "2020-11-05T21:26:14.181593Z",
     "iopub.status.idle": "2020-11-05T21:26:14.195626Z",
     "shell.execute_reply": "2020-11-05T21:26:14.196088Z"
    }
   },
   "outputs": [],
   "source": [
    "# load in movies\n",
    "movies = get_movies(\"movies.csv\", \"mapping.csv\")"
   ]
  },
  {
   "cell_type": "code",
   "execution_count": 4,
   "metadata": {
    "execution": {
     "iopub.execute_input": "2020-11-05T21:26:14.201682Z",
     "iopub.status.busy": "2020-11-05T21:26:14.201117Z",
     "iopub.status.idle": "2020-11-05T21:26:14.203413Z",
     "shell.execute_reply": "2020-11-05T21:26:14.203781Z"
    }
   },
   "outputs": [
    {
     "data": {
      "text/plain": [
       "6.380867346938772"
      ]
     },
     "execution_count": 1,
     "metadata": {},
     "output_type": "execute_result"
    }
   ],
   "source": [
    "#q1\n",
    "q1 = []\n",
    "\n",
    "for movie in movies:\n",
    "    if len(movie['actors']) < 4:\n",
    "        q1.append(movie[\"rating\"])\n",
    "\n",
    "sum(q1)/len(q1)"
   ]
  },
  {
   "cell_type": "code",
   "execution_count": 5,
   "metadata": {
    "execution": {
     "iopub.execute_input": "2020-11-05T21:26:14.207817Z",
     "iopub.status.busy": "2020-11-05T21:26:14.206981Z",
     "iopub.status.idle": "2020-11-05T21:26:14.209354Z",
     "shell.execute_reply": "2020-11-05T21:26:14.209728Z"
    }
   },
   "outputs": [
    {
     "data": {
      "text/plain": [
       "6.742857142857143"
      ]
     },
     "execution_count": 1,
     "metadata": {},
     "output_type": "execute_result"
    }
   ],
   "source": [
    "#q2\n",
    "q1 = []\n",
    "\n",
    "for movie in movies:\n",
    "    if len(movie['actors']) > 5:\n",
    "        q1.append(movie[\"rating\"])\n",
    "\n",
    "sum(q1)/len(q1)\n"
   ]
  },
  {
   "cell_type": "code",
   "execution_count": 6,
   "metadata": {
    "execution": {
     "iopub.execute_input": "2020-11-05T21:26:14.213542Z",
     "iopub.status.busy": "2020-11-05T21:26:14.213003Z",
     "iopub.status.idle": "2020-11-05T21:26:14.216387Z",
     "shell.execute_reply": "2020-11-05T21:26:14.215404Z"
    }
   },
   "outputs": [
    {
     "data": {
      "text/plain": [
       "6.413599999999994"
      ]
     },
     "execution_count": 1,
     "metadata": {},
     "output_type": "execute_result"
    }
   ],
   "source": [
    "#q3\n",
    "q3 = []\n",
    "\n",
    "for movie in movies:\n",
    "    if (movie['title'][0].lower() == 'a'):\n",
    "        q3.append(movie[\"rating\"])\n",
    "\n",
    "sum(q3)/len(q3)\n",
    "\n"
   ]
  },
  {
   "cell_type": "code",
   "execution_count": 7,
   "metadata": {
    "execution": {
     "iopub.execute_input": "2020-11-05T21:26:14.221984Z",
     "iopub.status.busy": "2020-11-05T21:26:14.221423Z",
     "iopub.status.idle": "2020-11-05T21:26:14.339449Z",
     "shell.execute_reply": "2020-11-05T21:26:14.339831Z"
    }
   },
   "outputs": [
    {
     "data": {
      "image/png": "[encoded data removed]",
      "text/plain": [
       "<Figure size 432x288 with 1 Axes>"
      ]
     },
     "metadata": {
      "needs_background": "light"
     },
     "output_type": "display_data"
    }
   ],
   "source": [
    "#q4\n",
    "\n",
    "def plot_title_vs_rating(actor):\n",
    "    #use list comprehension to find the movies actor is in\n",
    "    act_movies = [movie for movie in movies if actor in movie[\"actors\"]]\n",
    "    \n",
    "    #convert the list into the data set required by the question\n",
    "    data = {}\n",
    "    \n",
    "    for movie in act_movies:\n",
    "        data[movie[\"title\"]] = movie[\"rating\"]\n",
    "    \n",
    "    #plot the dict\n",
    "    plot_dict(data, \"Ratings per {} movie\".format(actor))\n",
    "    \n",
    "    \n",
    "plot_title_vs_rating(\"Tom Cruise\")"
   ]
  },
  {
   "cell_type": "code",
   "execution_count": 8,
   "metadata": {
    "execution": {
     "iopub.execute_input": "2020-11-05T21:26:14.365492Z",
     "iopub.status.busy": "2020-11-05T21:26:14.355248Z",
     "iopub.status.idle": "2020-11-05T21:26:14.470427Z",
     "shell.execute_reply": "2020-11-05T21:26:14.470806Z"
    }
   },
   "outputs": [
    {
     "data": {
      "image/png": "[encoded data removed]",
      "text/plain": [
       "<Figure size 432x288 with 1 Axes>"
      ]
     },
     "metadata": {
      "needs_background": "light"
     },
     "output_type": "display_data"
    }
   ],
   "source": [
    "#q5\n",
    "plot_title_vs_rating(\"Sylvester Stallone\")"
   ]
  },
  {
   "cell_type": "code",
   "execution_count": 9,
   "metadata": {
    "execution": {
     "iopub.execute_input": "2020-11-05T21:26:14.539812Z",
     "iopub.status.busy": "2020-11-05T21:26:14.539192Z",
     "iopub.status.idle": "2020-11-05T21:26:14.615092Z",
     "shell.execute_reply": "2020-11-05T21:26:14.615472Z"
    }
   },
   "outputs": [
    {
     "data": {
      "image/png": "[encoded data removed]",
      "text/plain": [
       "<Figure size 432x288 with 1 Axes>"
      ]
     },
     "metadata": {
      "needs_background": "light"
     },
     "output_type": "display_data"
    }
   ],
   "source": [
    "#q6\n",
    "def tot_movies_acted(actor):\n",
    "    \n",
    "    #to get the total # of movies: create a list of all the movies the actor has been in then return the len\n",
    "    return len( [movie for movie in movies if actor in movie[\"actors\"]] )\n",
    "\n",
    "q6 = {\"John Wayne\":tot_movies_acted(\"John Wayne\"), \"Glenn Ford\":tot_movies_acted(\"Glenn Ford\"), \n",
    "       \"Danny Glover\":tot_movies_acted( \"Danny Glover\")}\n",
    "\n",
    "plot_dict(q6, \"Total num of movies by actor\")"
   ]
  },
  {
   "cell_type": "code",
   "execution_count": 10,
   "metadata": {
    "execution": {
     "iopub.execute_input": "2020-11-05T21:26:14.674182Z",
     "iopub.status.busy": "2020-11-05T21:26:14.649642Z",
     "iopub.status.idle": "2020-11-05T21:26:14.816531Z",
     "shell.execute_reply": "2020-11-05T21:26:14.816870Z"
    }
   },
   "outputs": [
    {
     "data": {
      "image/png": "[encoded data removed]",
      "text/plain": [
       "<Figure size 432x288 with 1 Axes>"
      ]
     },
     "metadata": {
      "needs_background": "light"
     },
     "output_type": "display_data"
    }
   ],
   "source": [
    "#q7\n",
    "q7 = {}\n",
    "\n",
    "for movie in movies:\n",
    "    letter = movie[\"title\"][0].lower()\n",
    "\n",
    "    #use isalpha() to make sure that the title begins with a letter\n",
    "    if(letter.isalpha() and letter not in q7):\n",
    "        q7[letter] = 1\n",
    "    elif (letter.isalpha() and letter in q7):\n",
    "        q7[letter] += 1\n",
    "    \n",
    "plot_dict(q7)"
   ]
  },
  {
   "cell_type": "code",
   "execution_count": 11,
   "metadata": {
    "execution": {
     "iopub.execute_input": "2020-11-05T21:26:14.869835Z",
     "iopub.status.busy": "2020-11-05T21:26:14.838714Z",
     "iopub.status.idle": "2020-11-05T21:26:14.995804Z",
     "shell.execute_reply": "2020-11-05T21:26:14.996182Z"
    }
   },
   "outputs": [
    {
     "data": {
      "image/png": "[encoded data removed]",
      "text/plain": [
       "<Figure size 432x288 with 1 Axes>"
      ]
     },
     "metadata": {
      "needs_background": "light"
     },
     "output_type": "display_data"
    }
   ],
   "source": [
    "#q8\n",
    "q8 = {}\n",
    "\n",
    "for movie in movies:\n",
    "    for genre in movie[\"genres\"]:\n",
    "        if genre not in q8:\n",
    "            q8[genre] = 0\n",
    "        q8[genre] += 1\n",
    "plot_dict(q8)"
   ]
  },
  {
   "cell_type": "code",
   "execution_count": 12,
   "metadata": {
    "execution": {
     "iopub.execute_input": "2020-11-05T21:26:15.002492Z",
     "iopub.status.busy": "2020-11-05T21:26:15.001832Z",
     "iopub.status.idle": "2020-11-05T21:26:15.004080Z",
     "shell.execute_reply": "2020-11-05T21:26:15.004566Z"
    }
   },
   "outputs": [
    {
     "data": {
      "text/plain": [
       "{'t': 6.5432000000000015,\n",
       " 'i': 6.714814814814817,\n",
       " 'a': 6.413599999999994,\n",
       " 'f': 6.375609756097562,\n",
       " 'l': 6.172368421052631,\n",
       " 'r': 6.371052631578949,\n",
       " 'p': 6.160377358490566,\n",
       " 's': 6.216352201257862,\n",
       " 'w': 6.243076923076923,\n",
       " 'b': 6.312264150943395,\n",
       " 'm': 6.650000000000002,\n",
       " 'k': 6.316666666666666,\n",
       " 'o': 6.5814814814814815,\n",
       " 'c': 6.337362637362637,\n",
       " 'h': 6.476829268292684,\n",
       " 'g': 6.443181818181819,\n",
       " 'u': 6.15,\n",
       " 'n': 6.348148148148147,\n",
       " 'd': 6.297101449275363,\n",
       " 'e': 6.128125000000001,\n",
       " 'y': 6.285714285714286,\n",
       " 'v': 6.1000000000000005,\n",
       " 'q': 6.7,\n",
       " 'j': 6.375,\n",
       " 'z': 6.833333333333333}"
      ]
     },
     "execution_count": 1,
     "metadata": {},
     "output_type": "execute_result"
    }
   ],
   "source": [
    "#q9\n",
    "\n",
    "#q9 key-value pair structure-> letter:list of ratings\n",
    "q9 = {}\n",
    "\n",
    "for movie in movies:\n",
    "    letter = movie['title'][0].lower()\n",
    "    isalpha = letter.isalpha()\n",
    "    \n",
    "    if isalpha and letter not in q9:\n",
    "        q9[letter] = [movie[\"rating\"]]\n",
    "    elif isalpha and letter in q9:\n",
    "        q9[letter].append(movie[\"rating\"])\n",
    "    \n",
    "# iterate through q9 and get the averages of each letter\n",
    "  \n",
    "def dict_lis_avg(dict_):\n",
    "    \n",
    "    lis_avgs = {}\n",
    "    for key,list_ in dict_.items():\n",
    "        lis_avgs[key] = sum(list_)/len(list_)\n",
    "    return lis_avgs\n",
    "    \n",
    "    \n",
    "# q9_avgs = {}\n",
    "# for letter in q9:\n",
    "#     let_lis = q9[letter]\n",
    "#     q9[letter] = sum(let_lis)/len(let_lis)\n",
    "\n",
    "dict_lis_avg(q9)"
   ]
  },
  {
   "cell_type": "code",
   "execution_count": 13,
   "metadata": {
    "execution": {
     "iopub.execute_input": "2020-11-05T21:26:15.010554Z",
     "iopub.status.busy": "2020-11-05T21:26:15.009916Z",
     "iopub.status.idle": "2020-11-05T21:26:15.012511Z",
     "shell.execute_reply": "2020-11-05T21:26:15.012890Z"
    }
   },
   "outputs": [
    {
     "data": {
      "text/plain": [
       "{'Comedy': 6.3146391752577395,\n",
       " 'Drama': 6.529707495429615,\n",
       " 'Romance': 6.474147727272729,\n",
       " 'History': 6.661643835616438,\n",
       " 'Family': 6.512941176470589,\n",
       " 'Mystery': 6.275206611570249,\n",
       " 'Thriller': 5.981999999999998,\n",
       " 'Action': 6.125752508361202,\n",
       " 'Crime': 6.355182072829133,\n",
       " 'Adventure': 6.612367491166079,\n",
       " 'Western': 6.455309734513275,\n",
       " 'Music': 6.3947368421052655,\n",
       " 'Animation': 7.1533333333333315,\n",
       " 'Sport': 6.527083333333334,\n",
       " 'Fantasy': 6.405084745762712,\n",
       " 'War': 6.771717171717175,\n",
       " 'Sci-Fi': 6.104347826086958,\n",
       " 'Horror': 5.724705882352941}"
      ]
     },
     "execution_count": 1,
     "metadata": {},
     "output_type": "execute_result"
    }
   ],
   "source": [
    "#q10\n",
    "\n",
    "q10 = {}\n",
    "\n",
    "for movie in movies:\n",
    "    mov_genres = movie[\"genres\"]\n",
    "    \n",
    "    #if there are any new genres, append that genre to q10\n",
    "    #if genre already exists in q10 append the movie rating to that genre\n",
    "    for genre in mov_genres:\n",
    "        if genre not in q10:\n",
    "            q10[genre] = [movie[\"rating\"]]\n",
    "        else:\n",
    "            q10[genre].append(movie[\"rating\"])\n",
    "            \n",
    "dict_lis_avg(q10)"
   ]
  },
  {
   "cell_type": "code",
   "execution_count": 14,
   "metadata": {
    "execution": {
     "iopub.execute_input": "2020-11-05T21:26:15.017269Z",
     "iopub.status.busy": "2020-11-05T21:26:15.016715Z",
     "iopub.status.idle": "2020-11-05T21:26:15.018738Z",
     "shell.execute_reply": "2020-11-05T21:26:15.019120Z"
    }
   },
   "outputs": [
    {
     "data": {
      "text/plain": [
       "{'Comedy': 484,\n",
       " 'Drama': 1085,\n",
       " 'Romance': 352,\n",
       " 'History': 73,\n",
       " 'Family': 84,\n",
       " 'Mystery': 117,\n",
       " 'Thriller': 243,\n",
       " 'Action': 289,\n",
       " 'Crime': 351,\n",
       " 'Adventure': 280,\n",
       " 'Western': 226,\n",
       " 'Music': 38,\n",
       " 'Animation': 45,\n",
       " 'Sport': 47,\n",
       " 'Fantasy': 58,\n",
       " 'War': 99,\n",
       " 'Sci-Fi': 67,\n",
       " 'Horror': 81}"
      ]
     },
     "execution_count": 1,
     "metadata": {},
     "output_type": "execute_result"
    }
   ],
   "source": [
    "# q11\n",
    "q11 = {}\n",
    "\n",
    "# use the list from q10 and count the # of movies with rating>4\n",
    "for genre, ratings in q10.items():\n",
    "    q11[genre] = 0\n",
    "    for rating in ratings:\n",
    "        q11[genre] += 1 if rating > 4.0 else 0\n",
    "        \n",
    "q11"
   ]
  },
  {
   "cell_type": "code",
   "execution_count": 15,
   "metadata": {
    "execution": {
     "iopub.execute_input": "2020-11-05T21:26:15.063832Z",
     "iopub.status.busy": "2020-11-05T21:26:15.063083Z",
     "iopub.status.idle": "2020-11-05T21:26:15.165003Z",
     "shell.execute_reply": "2020-11-05T21:26:15.165511Z"
    }
   },
   "outputs": [
    {
     "data": {
      "image/png": "[encoded data removed]",
      "text/plain": [
       "<Figure size 432x288 with 1 Axes>"
      ]
     },
     "metadata": {
      "needs_background": "light"
     },
     "output_type": "display_data"
    }
   ],
   "source": [
    "# q12\n",
    "\n",
    "#arbitrary min, max years to get all years\n",
    "def find_movies_in_range(year1 = 0, year2 = 3000):\n",
    "    \n",
    "    mov_in_range = {}\n",
    "    for movie in movies:\n",
    "        mov_year = movie[\"year\"]\n",
    "        \n",
    "        #skip if year not in range\n",
    "        if not year1 <= mov_year <= year2:\n",
    "            continue\n",
    "            \n",
    "        try:\n",
    "            mov_in_range[mov_year] += 1\n",
    "        except KeyError:\n",
    "            mov_in_range[mov_year] = 1\n",
    "            \n",
    "    return mov_in_range\n",
    "\n",
    "q12 = find_movies_in_range(2010, 2020)    \n",
    "plot_dict(q12, \"Movies in the 2010's per year\")"
   ]
  },
  {
   "cell_type": "code",
   "execution_count": 16,
   "metadata": {
    "execution": {
     "iopub.execute_input": "2020-11-05T21:26:15.169757Z",
     "iopub.status.busy": "2020-11-05T21:26:15.169155Z",
     "iopub.status.idle": "2020-11-05T21:26:15.171541Z",
     "shell.execute_reply": "2020-11-05T21:26:15.171936Z"
    }
   },
   "outputs": [
    {
     "data": {
      "text/plain": [
       "[2015]"
      ]
     },
     "execution_count": 1,
     "metadata": {},
     "output_type": "execute_result"
    }
   ],
   "source": [
    "#q13\n",
    "\n",
    "movies_by_year = find_movies_in_range()\n",
    "q13 = [sorted(movies_by_year.items(), key=lambda x:x[1], reverse=True)[0][0]]\n",
    "\n",
    "q13"
   ]
  },
  {
   "cell_type": "code",
   "execution_count": 17,
   "metadata": {
    "execution": {
     "iopub.execute_input": "2020-11-05T21:26:15.176876Z",
     "iopub.status.busy": "2020-11-05T21:26:15.176276Z",
     "iopub.status.idle": "2020-11-05T21:26:15.178338Z",
     "shell.execute_reply": "2020-11-05T21:26:15.178745Z"
    }
   },
   "outputs": [
    {
     "data": {
      "text/plain": [
       "['Music', 'Animation', 'Sport', 'Fantasy', 'Sci-Fi']"
      ]
     },
     "execution_count": 1,
     "metadata": {},
     "output_type": "execute_result"
    }
   ],
   "source": [
    "#q14\n",
    "\n",
    "def get_5_genres(rev = False):\n",
    "    #we can use the list from q10 since it has the ratings for each genre, len(list of ratings) = num of movies \n",
    "    movies_by_genres = [(genre, len(ratings)) for genre, ratings in q10.items()]\n",
    "    \n",
    "    #sort the above list and slice for first five\n",
    "    genre_count = sorted(movies_by_genres, key = lambda x:x[1], reverse = rev)[:5]\n",
    "    \n",
    "    #isolate the genres    \n",
    "    return [genre[0] for genre in genre_count]\n",
    "\n",
    "\n",
    "get_5_genres()"
   ]
  },
  {
   "cell_type": "code",
   "execution_count": 18,
   "metadata": {
    "execution": {
     "iopub.execute_input": "2020-11-05T21:26:15.182097Z",
     "iopub.status.busy": "2020-11-05T21:26:15.181419Z",
     "iopub.status.idle": "2020-11-05T21:26:15.183723Z",
     "shell.execute_reply": "2020-11-05T21:26:15.184200Z"
    }
   },
   "outputs": [
    {
     "data": {
      "text/plain": [
       "['Drama', 'Comedy', 'Crime', 'Romance', 'Action']"
      ]
     },
     "execution_count": 1,
     "metadata": {},
     "output_type": "execute_result"
    }
   ],
   "source": [
    "#q15\n",
    "\n",
    "#pass rev=True to get the 5 most genres\n",
    "get_5_genres(True)"
   ]
  },
  {
   "cell_type": "code",
   "execution_count": 19,
   "metadata": {
    "execution": {
     "iopub.execute_input": "2020-11-05T21:26:15.191544Z",
     "iopub.status.busy": "2020-11-05T21:26:15.190900Z",
     "iopub.status.idle": "2020-11-05T21:26:15.193145Z",
     "shell.execute_reply": "2020-11-05T21:26:15.193518Z"
    }
   },
   "outputs": [
    {
     "data": {
      "text/plain": [
       "['John Wayne',\n",
       " 'Eric Roberts',\n",
       " 'Mickey Rooney',\n",
       " 'Anthony Quinn',\n",
       " 'Henry Fonda',\n",
       " 'Randolph Scott',\n",
       " 'Robert De Niro',\n",
       " 'Robert Mitchum',\n",
       " 'Glenn Ford',\n",
       " 'George Sanders']"
      ]
     },
     "execution_count": 1,
     "metadata": {},
     "output_type": "execute_result"
    }
   ],
   "source": [
    "#q16\n",
    "\n",
    "def get_actors():\n",
    "        #get the num of movies by actor\n",
    "    num_featured = {}\n",
    "    \n",
    "    for movie in movies:\n",
    "        actors = movie[\"actors\"]\n",
    "        \n",
    "        for act in actors:\n",
    "            try:\n",
    "                num_featured[act] += 1\n",
    "            except KeyError:\n",
    "                num_featured[act] = 1\n",
    "            except e:\n",
    "                raise e\n",
    "                \n",
    "    #convert the dict into a list of tuples (where each touple is the actor, count kvp)\n",
    "    return [(actor, count) for actor, count in num_featured.items()]\n",
    "\n",
    "def get_x_top_actors(top_num_actors):\n",
    "    #sort the actors by count then return the actor names\n",
    "    top_x_actors = get_actors()\n",
    "    top_x_actors = sorted(top_x_actors, key = lambda x:x[1], reverse = True)[:top_num_actors]\n",
    "    return [actor[0] for actor in top_x_actors]\n",
    "\n",
    "\n",
    "#sort the list\n",
    "get_x_top_actors(10)"
   ]
  },
  {
   "cell_type": "code",
   "execution_count": 20,
   "metadata": {
    "execution": {
     "iopub.execute_input": "2020-11-05T21:26:15.198473Z",
     "iopub.status.busy": "2020-11-05T21:26:15.197791Z",
     "iopub.status.idle": "2020-11-05T21:26:15.199844Z",
     "shell.execute_reply": "2020-11-05T21:26:15.200281Z"
    }
   },
   "outputs": [
    {
     "data": {
      "text/plain": [
       "'John Wayne'"
      ]
     },
     "execution_count": 1,
     "metadata": {},
     "output_type": "execute_result"
    }
   ],
   "source": [
    "#q17\n",
    "\n",
    "#index 0th to get the expected type\n",
    "get_x_top_actors(1)[0]"
   ]
  },
  {
   "cell_type": "code",
   "execution_count": 21,
   "metadata": {
    "execution": {
     "iopub.execute_input": "2020-11-05T21:26:15.205853Z",
     "iopub.status.busy": "2020-11-05T21:26:15.205297Z",
     "iopub.status.idle": "2020-11-05T21:26:15.207463Z",
     "shell.execute_reply": "2020-11-05T21:26:15.207878Z"
    }
   },
   "outputs": [
    {
     "data": {
      "text/plain": [
       "1926"
      ]
     },
     "execution_count": 1,
     "metadata": {},
     "output_type": "execute_result"
    }
   ],
   "source": [
    "#q18\n",
    "\n",
    "q18 = get_actors()\n",
    "#sort actor count by least count to. most count\n",
    "q18 = sorted(q18, key = lambda x:x[1])\n",
    "\n",
    "#iterate through q18 until we find actors with more than one movie\n",
    "act_one = 0\n",
    "\n",
    "for actor, count in q18:\n",
    "    if count > 1:\n",
    "        break\n",
    "    act_one += 1\n",
    "\n",
    "act_one"
   ]
  },
  {
   "cell_type": "code",
   "execution_count": 22,
   "metadata": {
    "execution": {
     "iopub.execute_input": "2020-11-05T21:26:15.212663Z",
     "iopub.status.busy": "2020-11-05T21:26:15.212132Z",
     "iopub.status.idle": "2020-11-05T21:26:15.214361Z",
     "shell.execute_reply": "2020-11-05T21:26:15.214788Z"
    }
   },
   "outputs": [
    {
     "data": {
      "text/plain": [
       "['The Godfather', 'The Godfather: Part II', 'The Dark Knight']"
      ]
     },
     "execution_count": 1,
     "metadata": {},
     "output_type": "execute_result"
    }
   ],
   "source": [
    "#q19\n",
    "\n",
    "def get_ratings(slice_max, rev = True):\n",
    "    ratings = []\n",
    "    \n",
    "    for i, movie in enumerate(movies):\n",
    "        ratings.append((movie[\"title\"], movie[\"rating\"]))\n",
    "    \n",
    "    ratings = sorted(ratings, key = lambda x:x[1], reverse = rev)[:slice_max]\n",
    "    \n",
    "    return [movie for movie, rating, in ratings]\n",
    "\n",
    "get_ratings(3)"
   ]
  },
  {
   "cell_type": "code",
   "execution_count": 23,
   "metadata": {
    "execution": {
     "iopub.execute_input": "2020-11-05T21:26:15.218421Z",
     "iopub.status.busy": "2020-11-05T21:26:15.217850Z",
     "iopub.status.idle": "2020-11-05T21:26:15.219780Z",
     "shell.execute_reply": "2020-11-05T21:26:15.220224Z"
    }
   },
   "outputs": [
    {
     "data": {
      "text/plain": [
       "['Silk',\n",
       " 'Stealing Las Vegas',\n",
       " 'Singularity',\n",
       " 'Body and Soul',\n",
       " 'Garden of the Dead',\n",
       " 'Beyond the Ring',\n",
       " \"Hitman's Run\",\n",
       " 'Betrayal',\n",
       " \"Jake's Road\",\n",
       " 'The Trouble with Spies',\n",
       " '2 Bedroom 1 Bath',\n",
       " 'Victim of Desire',\n",
       " 'Arsenal',\n",
       " 'Woman of Desire',\n",
       " 'Sweet Justice',\n",
       " 'Falcon Beach',\n",
       " 'The Flying Dutchman',\n",
       " 'The Mark: Redemption',\n",
       " 'The Steam Experiment']"
      ]
     },
     "execution_count": 1,
     "metadata": {},
     "output_type": "execute_result"
    }
   ],
   "source": [
    "#q20\n",
    "get_ratings(19, False)"
   ]
  }
 ],
 "metadata": {
  "kernelspec": {
   "display_name": "Python 3",
   "language": "python",
   "name": "python3"
  },
  "language_info": {
   "codemirror_mode": {
    "name": "ipython",
    "version": 3
   },
   "file_extension": ".py",
   "mimetype": "text/x-python",
   "name": "python",
   "nbconvert_exporter": "python",
   "pygments_lexer": "ipython3",
   "version": "3.9.0"
  }
 },
 "nbformat": 4,
 "nbformat_minor": 4
}
