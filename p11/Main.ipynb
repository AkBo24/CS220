{
 "cells": [
  {
   "cell_type": "code",
   "execution_count": 1,
   "metadata": {},
   "outputs": [],
   "source": [
    "#project: p11\n",
    "#submitter: bodla\n",
    "#partner: kksun"
   ]
  },
  {
   "cell_type": "code",
   "execution_count": 2,
   "metadata": {},
   "outputs": [],
   "source": [
    "from cleanMAC import * \n",
    "# clean the .DS_Store file in MAC\n",
    "clean()\n",
    "\n",
    "import os, json, csv, pandas as pd\n",
    "from collections import namedtuple as nt\n",
    "from collections import defaultdict"
   ]
  },
  {
   "cell_type": "code",
   "execution_count": 3,
   "metadata": {},
   "outputs": [],
   "source": [
    "#p10 function\n",
    "\n",
    "def get_files(path):\n",
    "    return sorted(os.listdir(path), reverse = True)\n",
    "\n",
    "def get_paths(dir_):\n",
    "    files = os.listdir(dir_)\n",
    "    paths = []\n",
    "    for file in files:\n",
    "        paths.append(os.path.join(dir_, file))\n",
    "    return sorted(paths, reverse = True)\n",
    "\n",
    "def get_csv_paths(dir_, extensions = \".csv\"):\n",
    "    all_paths = get_paths(dir_)\n",
    "    \n",
    "    # get paths with .csv extension\n",
    "    return [csv_file for csv_file in all_paths if csv_file[-len(extensions):] in extensions]"
   ]
  },
  {
   "cell_type": "code",
   "execution_count": 4,
   "metadata": {},
   "outputs": [],
   "source": [
    "#p10 functions cont\n",
    "\n",
    "Tweet = nt('Tweet', ['tweet_id', 'username', 'num_liked', 'length'])\n",
    "\n",
    "#takes a list and gets the tweet\n",
    "def format_tweets(header, tweets, fields = ['tweet_id', 'username', 'num_liked', 'tweet_text']):\n",
    "    all_tweets = []\n",
    "    \n",
    "    for tweet in tweets:\n",
    "        tweet_dict = {}\n",
    "        \n",
    "        #for each tweet add the appropriate attribute the dicitonary\n",
    "        #then convert the dict into a Tweet namedTuple and append to all_tweets list\n",
    "        try:\n",
    "            for i, item in enumerate(tweet):\n",
    "                head = header[i]\n",
    "                if head in fields:\n",
    "                    if head == 'tweet_text':\n",
    "                        tweet_dict['length'] = len(item)\n",
    "                    elif head == 'num_liked':\n",
    "                        tweet_dict[head] = int(item)\n",
    "                    else:\n",
    "                        tweet_dict[head] = (item)\n",
    "            all_tweets.append(Tweet(**tweet_dict))\n",
    "        except:\n",
    "            continue\n",
    "            \n",
    "    return all_tweets\n",
    "    \n",
    "\n",
    "def get_tweets(dir_ = \"sample_data\", file = \"1.csv\"):\n",
    "    \n",
    "    try:\n",
    "        data = open(os.path.join(dir_, file), encoding = \"utf-8\")\n",
    "        tweet_data = list(csv.reader(data))\n",
    "        file_h = tweet_data[0]\n",
    "        file_d = tweet_data[1:]\n",
    "        \n",
    "        data.close()\n",
    "        return format_tweets(file_h, file_d)\n",
    "            \n",
    "    except FileExistsError:\n",
    "        data.close()\n",
    "        raise FileExistsError\n",
    "        \n",
    "def format_tweets_json(tweet_json):\n",
    "    all_tweets = []\n",
    "    for tw_id,tw_d in tweet_json.items():\n",
    "        all_tweets.append(Tweet(tw_id, tw_d['username'], tw_d['num_liked'], len(tw_d['tweet_text'])))\n",
    "    \n",
    "    return all_tweets\n",
    "\n",
    "def get_tweets_json(dir_ = \"sample_data\", file = \"2.json\"):\n",
    "    try:\n",
    "        #get the json data from the passed file\n",
    "        data = open(os.path.join(dir_, file))\n",
    "        tweet_json = json.loads(data.read())\n",
    "        \n",
    "        #get the tweets \n",
    "        data.close()\n",
    "        return format_tweets_json(tweet_json);\n",
    "        \n",
    "    except FileNotFoundError:\n",
    "        data.close()\n",
    "        raise FileNotFoundError\n",
    "        \n"
   ]
  },
  {
   "cell_type": "code",
   "execution_count": 5,
   "metadata": {},
   "outputs": [],
   "source": [
    "#p10 functions cont\n",
    "\n",
    "def get_tweets_in_file(file, dir_ =  \"full_data\"):\n",
    "    #based on the file type, make the correct format tweet funciton call and return the sorted version\n",
    "    if '.csv' == file[-4:]:\n",
    "        return sorted(get_tweets(dir_ =  dir_, file = file), key = lambda tweet:tweet.tweet_id)\n",
    "    elif '.json' == file[-5:]:\n",
    "        try:\n",
    "            return sorted(get_tweets_json(dir_ =  dir_, file = file), key = lambda tweet:tweet.tweet_id)\n",
    "        except:\n",
    "            pass\n",
    "    \n",
    "    #should not happen, this is for debugging\n",
    "    return []\n",
    "\n",
    "def tweetsLessThan(textLength = 50):\n",
    "    all_files = get_files('full_data')\n",
    "    \n",
    "    #get all tweets, then filter for tweets with len<textLength\n",
    "    tweets = []\n",
    "    for file in all_files:\n",
    "        tweets += get_tweets_in_file(file)\n",
    "    \n",
    "    #filter list comprehension\n",
    "    tweets_filtered = [tw_filtered for tw_filtered in tweets if tw_filtered.length < textLength]\n",
    "    return tweets_filtered\n",
    "\n",
    "def find_tweet(id_ = '1467812784', dir_ = 'sample_data', ):\n",
    "    \n",
    "    #return a list of ids from a list of tweets\n",
    "    def extract_ids(tweets):\n",
    "        ids = []\n",
    "        for tweet in tweets:\n",
    "            ids.append(tweet.tweet_id)\n",
    "        return ids\n",
    "    \n",
    "    #go through the files in dir_, extract the ids for each file, then search for id\n",
    "    all_files = get_files(dir_)\n",
    "    for file in all_files:\n",
    "        #check if id is in the current file's id list\n",
    "        if id_ in extract_ids(get_tweets_in_file(file,dir_)):\n",
    "            return os.path.join(dir_,file)\n",
    "    \n",
    "    #id not found\n",
    "    raise Exception(\"Id {} not found!\".format(id))\n",
    "    \n",
    "    \n",
    "#return a list of users from a list of tweets\n",
    "def extract_users(tweets):\n",
    "    usernames = []\n",
    "    for tweet in tweets:\n",
    "        usernames.append(tweet.username)\n",
    "    return usernames\n",
    "\n",
    "def format_tweet_liked(tweet):\n",
    "    try:\n",
    "        return int(tweet.num_liked)\n",
    "    except ValueError:\n",
    "        curr_liked = tweet.num_liked\n",
    "        #handeling edge cases: the num_liked has a suffix\n",
    "        \n",
    "        if isinstance(curr_liked, str):\n",
    "            if curr_liked[-1].upper() == \"M\":\n",
    "                curr_liked = int(curr_liked[:-1]) * 1000000\n",
    "            elif curr_liked[-1].upper() == \"K\":\n",
    "                curr_liked = int(curr_liked[:-1]) * 1000\n",
    "            else:\n",
    "                curr_liked = 0\n",
    "        return curr_liked"
   ]
  },
  {
   "cell_type": "code",
   "execution_count": 6,
   "metadata": {},
   "outputs": [
    {
     "data": {
      "text/plain": [
       "445"
      ]
     },
     "execution_count": 6,
     "metadata": {},
     "output_type": "execute_result"
    }
   ],
   "source": [
    "#q1\n",
    "\n",
    "def get_all_tweets(dir_ = os.path.join(\"full_data\")):\n",
    "    try:\n",
    "        files = os.listdir(dir_)\n",
    "        \n",
    "        tweets = []\n",
    "        for file in files:\n",
    "            tweets += get_tweets_in_file(file,\"full_data\")\n",
    "        return tweets\n",
    "    \n",
    "    except FileNotFoundError:\n",
    "        raise FileNotFoundError\n",
    "\n",
    "len(get_all_tweets())"
   ]
  },
  {
   "cell_type": "code",
   "execution_count": 7,
   "metadata": {},
   "outputs": [
    {
     "data": {
      "text/plain": [
       "{'USERID_1',\n",
       " 'USERID_10',\n",
       " 'USERID_2',\n",
       " 'USERID_3',\n",
       " 'USERID_4',\n",
       " 'USERID_5',\n",
       " 'USERID_6',\n",
       " 'USERID_7',\n",
       " 'USERID_8',\n",
       " 'USERID_9'}"
      ]
     },
     "execution_count": 7,
     "metadata": {},
     "output_type": "execute_result"
    }
   ],
   "source": [
    "#q2\n",
    "\n",
    "all_tweets   = get_all_tweets(dir_ = os.path.join(\"full_data\"))\n",
    "unique_users = set(extract_users(all_tweets))\n",
    "\n",
    "unique_users"
   ]
  },
  {
   "cell_type": "code",
   "execution_count": 8,
   "metadata": {},
   "outputs": [
    {
     "data": {
      "text/plain": [
       "{'USERID_5': 46,\n",
       " 'USERID_3': 39,\n",
       " 'USERID_1': 52,\n",
       " 'USERID_4': 35,\n",
       " 'USERID_10': 45,\n",
       " 'USERID_9': 44,\n",
       " 'USERID_2': 47,\n",
       " 'USERID_8': 31,\n",
       " 'USERID_7': 55,\n",
       " 'USERID_6': 51}"
      ]
     },
     "execution_count": 8,
     "metadata": {},
     "output_type": "execute_result"
    }
   ],
   "source": [
    "#q3\n",
    "\n",
    "prolific_users = dict.fromkeys(unique_users, 0)\n",
    "\n",
    "for tweet in all_tweets:\n",
    "    curr_user = tweet.username\n",
    "    if curr_user in prolific_users:\n",
    "        prolific_users[curr_user] += 1\n",
    "        \n",
    "prolific_users"
   ]
  },
  {
   "cell_type": "code",
   "execution_count": 9,
   "metadata": {},
   "outputs": [
    {
     "data": {
      "text/plain": [
       "{'USERID_5': 9608,\n",
       " 'USERID_3': 9678,\n",
       " 'USERID_1': 9393,\n",
       " 'USERID_4': 9618,\n",
       " 'USERID_10': 9936,\n",
       " 'USERID_9': 9728,\n",
       " 'USERID_2': 869000000,\n",
       " 'USERID_8': 915000,\n",
       " 'USERID_7': 9851,\n",
       " 'USERID_6': 9149}"
      ]
     },
     "execution_count": 9,
     "metadata": {},
     "output_type": "execute_result"
    }
   ],
   "source": [
    "#q4\n",
    "\n",
    "largest_like = dict.fromkeys(unique_users, 0)\n",
    "\n",
    "#q4: What is the largest number of likes received on a tweet for each user?\n",
    "# Answer with a dict that maps username to the largest number of likes by that user. Make sure all values in this dict are integers.\n",
    "# Hint: Your function from p10 #q20 converted the num_liked into an integer.\n",
    " \n",
    "# '''\n",
    "# 1. Get all the tweets (var all_tweets)\n",
    "# 2. Iterate through the list\n",
    "# 3. with each tweet, check if the number of likes is greater than the stored number of likes\n",
    "# '''\n",
    "\n",
    "for tweet in all_tweets:\n",
    "    largest_like[tweet.username] = max(format_tweet_liked(tweet), largest_like[tweet.username])\n",
    "    \n",
    "largest_like"
   ]
  },
  {
   "cell_type": "code",
   "execution_count": 10,
   "metadata": {},
   "outputs": [
    {
     "data": {
      "text/plain": [
       "{'USERID_1': 150,\n",
       " 'USERID_2': 138,\n",
       " 'USERID_6': 145,\n",
       " 'USERID_7': 144,\n",
       " 'USERID_4': 138,\n",
       " 'USERID_8': 145,\n",
       " 'USERID_5': 146,\n",
       " 'USERID_10': 136,\n",
       " 'USERID_9': 137,\n",
       " 'USERID_3': 138}"
      ]
     },
     "execution_count": 10,
     "metadata": {},
     "output_type": "execute_result"
    }
   ],
   "source": [
    "#q5\n",
    "\n",
    "longest_tweet = defaultdict(int)\n",
    "\n",
    "for tweet in all_tweets:\n",
    "    longest_tweet[tweet.username] = max(tweet.length, longest_tweet[tweet.username])\n",
    "    \n",
    "dict(longest_tweet)"
   ]
  },
  {
   "cell_type": "code",
   "execution_count": 11,
   "metadata": {},
   "outputs": [],
   "source": [
    "%matplotlib inline\n",
    "\n",
    "def scatter(x, y, xlabel=\"please label me!\", ylabel=\"please label me!\"):\n",
    "    df = pd.DataFrame({\"x\":x, \"y\":y})\n",
    "    ax = df.plot.scatter(x=\"x\", y=\"y\", color=\"black\", fontsize=16, xlim=0, ylim=0)\n",
    "    ax.set_xlabel(xlabel, fontsize=16)\n",
    "    ax.set_ylabel(ylabel, fontsize=16)\n",
    "    ax.get_xaxis().get_major_formatter().set_scientific(False)\n",
    "    ax.get_yaxis().get_major_formatter().set_scientific(False)"
   ]
  },
  {
   "cell_type": "code",
   "execution_count": 12,
   "metadata": {},
   "outputs": [
    {
     "data": {
      "image/png": "[encoded data removed]",
      "text/plain": [
       "<Figure size 432x288 with 1 Axes>"
      ]
     },
     "metadata": {
      "needs_background": "light"
     },
     "output_type": "display_data"
    }
   ],
   "source": [
    "#q6\n",
    "scatter(prolific_users, dict(longest_tweet),xlabel=\"Number of tweets\", ylabel=\"Longest Legnth\")"
   ]
  },
  {
   "cell_type": "code",
   "execution_count": 13,
   "metadata": {},
   "outputs": [
    {
     "data": {
      "image/png": "[encoded data removed]",
      "text/plain": [
       "<Figure size 432x288 with 1 Axes>"
      ]
     },
     "metadata": {
      "needs_background": "light"
     },
     "output_type": "display_data"
    }
   ],
   "source": [
    "#q7\n",
    "scatter(prolific_users, largest_like,xlabel=\"Number of tweets\", ylabel=\"Largest Like\")"
   ]
  },
  {
   "cell_type": "code",
   "execution_count": 14,
   "metadata": {},
   "outputs": [
    {
     "data": {
      "image/png": "[encoded data removed]",
      "text/plain": [
       "<Figure size 432x288 with 1 Axes>"
      ]
     },
     "metadata": {
      "needs_background": "light"
     },
     "output_type": "display_data"
    }
   ],
   "source": [
    "#q8\n",
    "scatter(dict(longest_tweet), largest_like, xlabel=\"Longest Legnth\", ylabel=\"Largest Like\")"
   ]
  },
  {
   "cell_type": "code",
   "execution_count": 15,
   "metadata": {},
   "outputs": [
    {
     "data": {
      "text/plain": [
       "'USERID_2'"
      ]
     },
     "execution_count": 15,
     "metadata": {},
     "output_type": "execute_result"
    }
   ],
   "source": [
    "#q9\n",
    "\n",
    "#find the current most liked user in the largest_like dict\n",
    "def most_liked_user():\n",
    "    #logic: find the largest like from the values of largest_like, get its index, then return that index from the keys\n",
    "    max_like = max(largest_like.values()) #largest curr liked\n",
    "    indx_max_like = list(largest_like.values()).index(max_like)\n",
    "    \n",
    "    return list(largest_like.keys())[indx_max_like]\n",
    "\n",
    "usr_max_like = most_liked_user()\n",
    "usr_max_like"
   ]
  },
  {
   "cell_type": "code",
   "execution_count": 16,
   "metadata": {},
   "outputs": [
    {
     "data": {
      "text/plain": [
       "[Tweet(tweet_id='1467894593', username='USERID_2', num_liked='869M', length=136),\n",
       " Tweet(tweet_id='1467875163', username='USERID_2', num_liked=9891, length=69),\n",
       " Tweet(tweet_id='1467862806', username='USERID_2', num_liked=9465, length=68),\n",
       " Tweet(tweet_id='1467907751', username='USERID_2', num_liked=9048, length=110),\n",
       " Tweet(tweet_id='1467928764', username='USERID_2', num_liked=9026, length=41),\n",
       " Tweet(tweet_id='1467943007', username='USERID_2', num_liked=9000, length=130),\n",
       " Tweet(tweet_id='1467918682', username='USERID_2', num_liked=8884, length=102),\n",
       " Tweet(tweet_id='1467935121', username='USERID_2', num_liked=8740, length=37),\n",
       " Tweet(tweet_id='1467947913', username='USERID_2', num_liked=8578, length=36),\n",
       " Tweet(tweet_id='1467892667', username='USERID_2', num_liked=8270, length=20),\n",
       " Tweet(tweet_id='1467897316', username='USERID_2', num_liked=7890, length=64),\n",
       " Tweet(tweet_id='1467854917', username='USERID_2', num_liked=7741, length=30),\n",
       " Tweet(tweet_id='1467961106', username='USERID_2', num_liked=7552, length=65),\n",
       " Tweet(tweet_id='1467951252', username='USERID_2', num_liked=7515, length=48),\n",
       " Tweet(tweet_id='1467889988', username='USERID_2', num_liked=7394, length=51),\n",
       " Tweet(tweet_id='1467916959', username='USERID_2', num_liked=7081, length=69),\n",
       " Tweet(tweet_id='1467874916', username='USERID_2', num_liked=6935, length=23),\n",
       " Tweet(tweet_id='1467855981', username='USERID_2', num_liked=6455, length=92),\n",
       " Tweet(tweet_id='1467872247', username='USERID_2', num_liked=6316, length=137),\n",
       " Tweet(tweet_id='1467918850', username='USERID_2', num_liked=5383, length=103),\n",
       " Tweet(tweet_id='1467919055', username='USERID_2', num_liked=5370, length=68),\n",
       " Tweet(tweet_id='1467915670', username='USERID_2', num_liked=5287, length=138),\n",
       " Tweet(tweet_id='1467880442', username='USERID_2', num_liked=5125, length=96),\n",
       " Tweet(tweet_id='1467896253', username='USERID_2', num_liked=4906, length=91),\n",
       " Tweet(tweet_id='1467962897', username='USERID_2', num_liked=4898, length=98),\n",
       " Tweet(tweet_id='1467855812', username='USERID_2', num_liked=4806, length=28),\n",
       " Tweet(tweet_id='1467930220', username='USERID_2', num_liked=4770, length=94),\n",
       " Tweet(tweet_id='1467852031', username='USERID_2', num_liked=4565, length=63),\n",
       " Tweet(tweet_id='1467905378', username='USERID_2', num_liked=4420, length=111),\n",
       " Tweet(tweet_id='1467877833', username='USERID_2', num_liked=4270, length=89),\n",
       " Tweet(tweet_id='1467870866', username='USERID_2', num_liked=4166, length=82),\n",
       " Tweet(tweet_id='1467879984', username='USERID_2', num_liked=3694, length=69),\n",
       " Tweet(tweet_id='1467898511', username='USERID_2', num_liked=3477, length=99),\n",
       " Tweet(tweet_id='1467926632', username='USERID_2', num_liked=2602, length=98),\n",
       " Tweet(tweet_id='1467862213', username='USERID_2', num_liked=2455, length=138),\n",
       " Tweet(tweet_id='1467878633', username='USERID_2', num_liked=2351, length=33),\n",
       " Tweet(tweet_id='1467878971', username='USERID_2', num_liked=2238, length=27),\n",
       " Tweet(tweet_id='1467953090', username='USERID_2', num_liked=1896, length=64),\n",
       " Tweet(tweet_id='1467908798', username='USERID_2', num_liked=1659, length=51),\n",
       " Tweet(tweet_id='1467918015', username='USERID_2', num_liked=1508, length=97),\n",
       " Tweet(tweet_id='1467926444', username='USERID_2', num_liked=1394, length=61),\n",
       " Tweet(tweet_id='1467914499', username='USERID_2', num_liked=910, length=138),\n",
       " Tweet(tweet_id='1467968584', username='USERID_2', num_liked=777, length=132),\n",
       " Tweet(tweet_id='1467933102', username='USERID_2', num_liked=625, length=135),\n",
       " Tweet(tweet_id='1467953277', username='USERID_2', num_liked=494, length=31),\n",
       " Tweet(tweet_id='1467890222', username='USERID_2', num_liked=227, length=107),\n",
       " Tweet(tweet_id='1467871956', username='USERID_2', num_liked=110, length=68)]"
      ]
     },
     "execution_count": 16,
     "metadata": {},
     "output_type": "execute_result"
    }
   ],
   "source": [
    "#q10\n",
    "\n",
    "# get every tweet a particular user has made in our dataset\n",
    "def find_tweets_user(user):\n",
    "    user_tweets = []\n",
    "    \n",
    "    for tweet in all_tweets:\n",
    "        if tweet.username == user:\n",
    "            user_tweets.append(tweet)\n",
    "    return sorted(user_tweets, key = format_tweet_liked, reverse = True)\n",
    "\n",
    "usr_2_tweets = find_tweets_user(usr_max_like)\n",
    "usr_2_tweets"
   ]
  },
  {
   "cell_type": "code",
   "execution_count": 17,
   "metadata": {},
   "outputs": [
    {
     "data": {
      "text/plain": [
       "5003.565217391304"
      ]
     },
     "execution_count": 17,
     "metadata": {},
     "output_type": "execute_result"
    }
   ],
   "source": [
    "#q11\n",
    "\n",
    "#find the tweets the user has made, then extract the likes\n",
    "def extract_num_liked_user(user):\n",
    "    user_tweets = find_tweets_user(user)\n",
    "    likes = []\n",
    "    \n",
    "    #extracting num of likes\n",
    "    for tweet in user_tweets:\n",
    "        if(isinstance(tweet.num_liked, int)):\n",
    "            likes.append(tweet.num_liked)\n",
    "        \n",
    "    return likes\n",
    "\n",
    "usr_2_likes = extract_num_liked_user(usr_max_like)\n",
    "sum(usr_2_likes)/len(usr_2_likes)"
   ]
  },
  {
   "cell_type": "code",
   "execution_count": 18,
   "metadata": {},
   "outputs": [
    {
     "data": {
      "image/png": "[encoded data removed]",
      "text/plain": [
       "<Figure size 432x288 with 1 Axes>"
      ]
     },
     "metadata": {
      "needs_background": "light"
     },
     "output_type": "display_data"
    }
   ],
   "source": [
    "#q12\n",
    "\n",
    "#get the largest like and remove it from the data\n",
    "largest_like[usr_max_like] = usr_2_likes[0]\n",
    "prolific_users[usr_max_like] -= 1\n",
    "\n",
    "scatter(prolific_users, largest_like,xlabel=\"Number of tweets\", ylabel=\"Largest Like\")"
   ]
  },
  {
   "cell_type": "code",
   "execution_count": 19,
   "metadata": {},
   "outputs": [
    {
     "data": {
      "image/png": "[encoded data removed]",
      "text/plain": [
       "<Figure size 432x288 with 1 Axes>"
      ]
     },
     "metadata": {
      "needs_background": "light"
     },
     "output_type": "display_data"
    }
   ],
   "source": [
    "#q13\n",
    "\n",
    "#refind the largest like and remove it from the data\n",
    "usr_max_like = most_liked_user()\n",
    "largest_like[usr_max_like] = usr_2_likes[0]\n",
    "prolific_users[usr_max_like] -= 1\n",
    "\n",
    "scatter(prolific_users, largest_like,xlabel=\"Number of tweets\", ylabel=\"Largest Like\")"
   ]
  },
  {
   "cell_type": "code",
   "execution_count": 20,
   "metadata": {},
   "outputs": [
    {
     "data": {
      "text/plain": [
       "[]"
      ]
     },
     "execution_count": 20,
     "metadata": {},
     "output_type": "execute_result"
    }
   ],
   "source": [
    "#q14\n",
    "\n",
    "#find the files in the path and ignore anything starting with '.'\n",
    "def find_files_dir(files = [], path = os.path.join('play','rb','rb8')):\n",
    "    \n",
    "    for file in os.listdir(path):\n",
    "        rel_path = os.path.join(path,file)\n",
    "        \n",
    "        #skip everything with a '.' at the beggining\n",
    "        #descend into dir if rel_path is dir\n",
    "        if(file[0] == '.'):\n",
    "            continue\n",
    "        elif(os.path.isdir(rel_path)):\n",
    "            files = find_files_dir(files, path = os.path.join(path, file))\n",
    "        \n",
    "        # skip rel_path if is a dir or already in files\n",
    "        if (not os.path.isdir(rel_path)):\n",
    "            files.append(rel_path)\n",
    "    \n",
    "    return sorted(files, reverse = True)\n",
    "                     \n",
    "find_files_dir()"
   ]
  },
  {
   "cell_type": "code",
   "execution_count": 21,
   "metadata": {},
   "outputs": [
    {
     "data": {
      "text/plain": [
       "['play/ou/v',\n",
       " 'play/ou/quap/uikwe',\n",
       " 'play/ou/quap/qonxu.txt',\n",
       " 'play/ou/quap/aoq/qsonj',\n",
       " 'play/ou/quap/aoq/aqnsa',\n",
       " 'play/ou/b',\n",
       " 'play/ou/a']"
      ]
     },
     "execution_count": 21,
     "metadata": {},
     "output_type": "execute_result"
    }
   ],
   "source": [
    "#q15\n",
    "find_files_dir(path = os.path.join('play', 'ou'))"
   ]
  },
  {
   "cell_type": "code",
   "execution_count": 22,
   "metadata": {},
   "outputs": [
    {
     "data": {
      "text/plain": [
       "['play/rb/rb9/89.csv',\n",
       " 'play/rb/rb9/12.xls',\n",
       " 'play/rb/ppt.ppt',\n",
       " 'play/ou/v',\n",
       " 'play/ou/quap/uikwe',\n",
       " 'play/ou/quap/qonxu.txt',\n",
       " 'play/ou/quap/aoq/qsonj',\n",
       " 'play/ou/quap/aoq/aqnsa',\n",
       " 'play/ou/b',\n",
       " 'play/ou/a',\n",
       " 'play/ls/qwe/usun.pdf',\n",
       " 'play/ls/qwe/iuqwe.json',\n",
       " 'play/ls/mf.py',\n",
       " 'play/ls/lu.txt']"
      ]
     },
     "execution_count": 22,
     "metadata": {},
     "output_type": "execute_result"
    }
   ],
   "source": [
    "#q16\n",
    "find_files_dir(files = [], path = os.path.join('play'))"
   ]
  },
  {
   "cell_type": "code",
   "execution_count": 23,
   "metadata": {},
   "outputs": [
    {
     "data": {
      "text/plain": [
       "['recursive/others/USERID_9.json',\n",
       " 'recursive/others/USERID_8.json',\n",
       " 'recursive/others/USERID_7.json',\n",
       " 'recursive/others/USERID_6.json',\n",
       " 'recursive/others/USERID_5.json',\n",
       " 'recursive/others/USERID_10.json']"
      ]
     },
     "execution_count": 23,
     "metadata": {},
     "output_type": "execute_result"
    }
   ],
   "source": [
    "#q17\n",
    "find_files_dir(files = [], path = os.path.join('recursive', 'others'))"
   ]
  },
  {
   "cell_type": "code",
   "execution_count": 24,
   "metadata": {},
   "outputs": [
    {
     "data": {
      "text/plain": [
       "['recursive/others/USERID_9.json',\n",
       " 'recursive/others/USERID_8.json',\n",
       " 'recursive/others/USERID_7.json',\n",
       " 'recursive/others/USERID_6.json',\n",
       " 'recursive/others/USERID_5.json',\n",
       " 'recursive/others/USERID_10.json',\n",
       " 'recursive/USERID_4/true/tweets.json',\n",
       " 'recursive/USERID_4/false/tweets.json',\n",
       " 'recursive/USERID_3/tweets.json',\n",
       " 'recursive/USERID_2/tweets.json',\n",
       " 'recursive/USERID_1/tweets.json']"
      ]
     },
     "execution_count": 24,
     "metadata": {},
     "output_type": "execute_result"
    }
   ],
   "source": [
    "#q18\n",
    "find_files_dir(files = [], path = os.path.join('recursive'))"
   ]
  },
  {
   "cell_type": "code",
   "execution_count": 25,
   "metadata": {},
   "outputs": [
    {
     "data": {
      "text/plain": [
       "17"
      ]
     },
     "execution_count": 25,
     "metadata": {},
     "output_type": "execute_result"
    }
   ],
   "source": [
    "#q19\n",
    "\n",
    "def num_tweets_dir(path = os.path.join('recursive', 'USERID_4')):\n",
    "    all_files  = find_files_dir(files = [], path = path)\n",
    "    all_tweets = []\n",
    "    \n",
    "    # for each file get the tweets\n",
    "    for sing_file in all_files:\n",
    "        file_path = os.path.split(sing_file)\n",
    "        all_tweets += get_tweets_in_file(file = file_path[1], dir_ =  file_path[0])\n",
    "    \n",
    "    return len(all_tweets)\n",
    "\n",
    "num_tweets_dir()"
   ]
  },
  {
   "cell_type": "code",
   "execution_count": 26,
   "metadata": {},
   "outputs": [
    {
     "data": {
      "text/plain": [
       "200"
      ]
     },
     "execution_count": 26,
     "metadata": {},
     "output_type": "execute_result"
    }
   ],
   "source": [
    "#q20\n",
    "num_tweets_dir('recursive')"
   ]
  }
 ],
 "metadata": {
  "kernelspec": {
   "display_name": "Python 3",
   "language": "python",
   "name": "python3"
  },
  "language_info": {
   "codemirror_mode": {
    "name": "ipython",
    "version": 3
   },
   "file_extension": ".py",
   "mimetype": "text/x-python",
   "name": "python",
   "nbconvert_exporter": "python",
   "pygments_lexer": "ipython3",
   "version": "3.9.0"
  }
 },
 "nbformat": 4,
 "nbformat_minor": 4
}
