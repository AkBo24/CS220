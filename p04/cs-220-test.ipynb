{
 "cells": [
  {
   "cell_type": "code",
   "execution_count": null,
   "metadata": {},
   "outputs": [],
   "source": []
  },
  {
   "cell_type": "code",
   "execution_count": 1,
   "metadata": {},
   "outputs": [
    {
     "data": {
      "text/plain": [
       "\"\\nproject methods: 'get_attack', 'get_defense', 'get_hp', 'get_region', 'get_sp_atk' \\n                 'get_sp_def', 'get_speed', 'get_type1', 'get_type2', 'print_stats'\\n\""
      ]
     },
     "execution_count": 1,
     "metadata": {},
     "output_type": "execute_result"
    }
   ],
   "source": [
    "import project\n",
    "import math\n",
    "'''\n",
    "project methods: 'get_attack', 'get_defense', 'get_hp', 'get_region', 'get_sp_atk' \n",
    "                 'get_sp_def', 'get_speed', 'get_type1', 'get_type2', 'print_stats'\n",
    "'''"
   ]
  },
  {
   "cell_type": "code",
   "execution_count": 2,
   "metadata": {},
   "outputs": [],
   "source": [
    "#lab-p4 funcitons\n",
    "\n",
    "def compare_hp(pkmn1, pkmn2):\n",
    "    return project.get_hp(pkmn1) if project.get_hp(pkmn1) > project.get_hp(pkmn2) else project.get_hp(pkmn2)\n",
    "\n",
    "def compare_attack(pkmn1, pkmn2):\n",
    "    #TODO: Return the name of the Pokemon with the higher Attack stat\n",
    "    return project.get_attack(pkmn1) if project.get_attack(pkmn1) > project.get_attack(pkmn2) else project.get_attack(pkmn2)\n",
    "\n",
    "def get_total_attack(pkmn):\n",
    "    return (project.get_attack(pkmn) + project.get_sp_atk(pkmn))\n",
    "\n",
    "def get_stat_total(pkmn):\n",
    "    #TODO: Return sum of all stats(HP,Attack,Defense,Sp. Atk,Sp. Def, Speed)\n",
    "    return (project.get_attack(pkmn) + project.get_defense(pkmn)+ project.get_hp(pkmn)+ \n",
    "            project.get_sp_atk(pkmn) + project.get_sp_def(pkmn) + project.get_speed(pkmn))\n",
    "\n",
    "def get_num_types(pkmn):\n",
    "    if project.get_type1(pkmn) == 'None':\n",
    "        return 0\n",
    "    elif project.get_type2(pkmn) == 'None':\n",
    "        return 1\n",
    "    else:\n",
    "        return 2\n",
    "    \n",
    "def same_types(pkmn1, pkmn2):\n",
    "    if project.get_type1(pkmn1) == project.get_type1(pkmn2):\n",
    "        if project.get_type2(pkmn1) == project.get_type2(pkmn2):\n",
    "            return True\n",
    "\n",
    "    if project.get_type1(pkmn1) == project.get_type2(pkmn2):\n",
    "        if project.get_type2(pkmn1) == project.get_type1(pkmn2):\n",
    "            return True\n",
    "            \n",
    "    return False"
   ]
  },
  {
   "cell_type": "code",
   "execution_count": 3,
   "metadata": {},
   "outputs": [
    {
     "data": {
      "text/plain": [
       "'Snorunt'"
      ]
     },
     "execution_count": 3,
     "metadata": {},
     "output_type": "execute_result"
    }
   ],
   "source": [
    "#q1\n",
    "\n",
    "def simple_battle(pok1, pok2):\n",
    "    s1, s2 = get_stat_total(pok1), get_stat_total(pok2)\n",
    "#     print(s1,s2)\n",
    "    if(abs(s1-s2) > 300):\n",
    "        return pok1 + \" ran away\"\n",
    "    elif(abs(s2-s1) > 300):\n",
    "        return pok2 + \" ran away\"\n",
    "    elif(s1 > s2):\n",
    "        return pok1\n",
    "    elif(s2 > s1):\n",
    "        return pok2\n",
    "    elif(s1 == s2):\n",
    "        return \"Draw\"\n",
    "\n",
    "simple_battle('Snorunt', 'Starly')"
   ]
  },
  {
   "cell_type": "code",
   "execution_count": 4,
   "metadata": {},
   "outputs": [
    {
     "data": {
      "text/plain": [
       "'Staravia'"
      ]
     },
     "execution_count": 4,
     "metadata": {},
     "output_type": "execute_result"
    }
   ],
   "source": [
    "#q2\n",
    "simple_battle('Snorunt', 'Staravia')"
   ]
  },
  {
   "cell_type": "code",
   "execution_count": 5,
   "metadata": {},
   "outputs": [
    {
     "data": {
      "text/plain": [
       "'Draw'"
      ]
     },
     "execution_count": 5,
     "metadata": {},
     "output_type": "execute_result"
    }
   ],
   "source": [
    "#q3\n",
    "simple_battle('Chikorita', 'Turtwig')"
   ]
  },
  {
   "cell_type": "code",
   "execution_count": 6,
   "metadata": {},
   "outputs": [
    {
     "data": {
      "text/plain": [
       "'Caterpie ran away'"
      ]
     },
     "execution_count": 6,
     "metadata": {},
     "output_type": "execute_result"
    }
   ],
   "source": [
    "#q4\n",
    "simple_battle('Caterpie', 'Melmetal')"
   ]
  },
  {
   "cell_type": "code",
   "execution_count": 7,
   "metadata": {},
   "outputs": [
    {
     "data": {
      "text/plain": [
       "'Dragonite'"
      ]
     },
     "execution_count": 7,
     "metadata": {},
     "output_type": "execute_result"
    }
   ],
   "source": [
    "#q5\n",
    "simple_battle('Dragonite', 'Snorunt')"
   ]
  },
  {
   "cell_type": "code",
   "execution_count": 8,
   "metadata": {},
   "outputs": [
    {
     "data": {
      "text/plain": [
       "33.5"
      ]
     },
     "execution_count": 8,
     "metadata": {},
     "output_type": "execute_result"
    }
   ],
   "source": [
    "#q6\n",
    "\n",
    "def most_damage(attacker, defender):\n",
    "    physical_damage = 10 * project.get_attack(attacker)/project.get_defense(defender)\n",
    "    special_damage  = 10 * project.get_sp_atk(attacker)/project.get_sp_def(defender)\n",
    "   \n",
    "    return physical_damage if physical_damage > special_damage else special_damage    \n",
    "\n",
    "most_damage('Dragonite', 'Rockruff')"
   ]
  },
  {
   "cell_type": "code",
   "execution_count": 9,
   "metadata": {},
   "outputs": [
    {
     "data": {
      "text/plain": [
       "14.222222222222221"
      ]
     },
     "execution_count": 9,
     "metadata": {},
     "output_type": "execute_result"
    }
   ],
   "source": [
    "#q7\n",
    "most_damage('Quilava', 'Grovyle')"
   ]
  },
  {
   "cell_type": "code",
   "execution_count": 10,
   "metadata": {},
   "outputs": [
    {
     "data": {
      "text/plain": [
       "12.5"
      ]
     },
     "execution_count": 10,
     "metadata": {},
     "output_type": "execute_result"
    }
   ],
   "source": [
    "#q8\n",
    "most_damage('Goomy', 'Beedrill')"
   ]
  },
  {
   "cell_type": "code",
   "execution_count": 11,
   "metadata": {},
   "outputs": [
    {
     "data": {
      "text/plain": [
       "8.076923076923077"
      ]
     },
     "execution_count": 11,
     "metadata": {},
     "output_type": "execute_result"
    }
   ],
   "source": [
    "#q9\n",
    "most_damage('Tepig', 'Charizard')"
   ]
  },
  {
   "cell_type": "code",
   "execution_count": 12,
   "metadata": {},
   "outputs": [
    {
     "data": {
      "text/plain": [
       "3"
      ]
     },
     "execution_count": 12,
     "metadata": {},
     "output_type": "execute_result"
    }
   ],
   "source": [
    "#q10\n",
    "def num_hits(attacker, defender):\n",
    "    #print(project.get_hp(defender),most_damage(attacker, defender) )\n",
    "    return math.ceil(project.get_hp(defender) / most_damage(attacker, defender))\n",
    "num_hits(\"Gible\" ,\"Goomy\")"
   ]
  },
  {
   "cell_type": "code",
   "execution_count": 13,
   "metadata": {},
   "outputs": [
    {
     "data": {
      "text/plain": [
       "14"
      ]
     },
     "execution_count": 13,
     "metadata": {},
     "output_type": "execute_result"
    }
   ],
   "source": [
    "#q11\n",
    "num_hits(\"Aipom\" ,\"Donphan\")"
   ]
  },
  {
   "cell_type": "code",
   "execution_count": 14,
   "metadata": {},
   "outputs": [
    {
     "data": {
      "text/plain": [
       "3"
      ]
     },
     "execution_count": 14,
     "metadata": {},
     "output_type": "execute_result"
    }
   ],
   "source": [
    "#q12\n",
    "num_hits(\"Donphan\" ,\"Aipom\")"
   ]
  },
  {
   "cell_type": "code",
   "execution_count": 15,
   "metadata": {},
   "outputs": [
    {
     "data": {
      "text/plain": [
       "'Scraggy'"
      ]
     },
     "execution_count": 15,
     "metadata": {},
     "output_type": "execute_result"
    }
   ],
   "source": [
    "#q13\n",
    "def battle(pkmn1, pkmn2):\n",
    "    #TODO: Return the name of the pkmn that can take more hits from the other\n",
    "    # pkmn. If both pkmn faint within the same number of moves, return the\n",
    "    # string 'Draw'\n",
    "    hits_1 = num_hits(pkmn1, pkmn2)\n",
    "    hits_2 = num_hits(pkmn2, pkmn1)\n",
    "    \n",
    "    if(hits_1 - hits_2 > 10):\n",
    "        return pkmn1 + \" ran away\"\n",
    "    elif(hits_2 - hits_1 > 10):\n",
    "        return pkmn2 + \" ran away\"\n",
    "    elif(hits_1 > hits_2):\n",
    "        return pkmn2\n",
    "    elif(hits_2 > hits_1):\n",
    "        return pkmn1\n",
    "    elif(hits_2 == hits_1 and project.get_speed(pkmn1) > project.get_speed(pkmn2)):\n",
    "        return pkmn1\n",
    "    elif(hits_2 == hits_1 and project.get_speed(pkmn1) < project.get_speed(pkmn2)):\n",
    "        return pkmn2\n",
    "    return \"Draw\"\n",
    "\n",
    "battle('Scraggy', 'Krabby')"
   ]
  },
  {
   "cell_type": "code",
   "execution_count": 16,
   "metadata": {},
   "outputs": [
    {
     "data": {
      "text/plain": [
       "'Charizard'"
      ]
     },
     "execution_count": 16,
     "metadata": {},
     "output_type": "execute_result"
    }
   ],
   "source": [
    "#q14\n",
    "battle('Charizard', 'Krabby')"
   ]
  },
  {
   "cell_type": "code",
   "execution_count": 17,
   "metadata": {},
   "outputs": [
    {
     "data": {
      "text/plain": [
       "'Draw'"
      ]
     },
     "execution_count": 17,
     "metadata": {},
     "output_type": "execute_result"
    }
   ],
   "source": [
    "#q15\n",
    "battle('Treecko', 'Litten')"
   ]
  },
  {
   "cell_type": "code",
   "execution_count": 18,
   "metadata": {},
   "outputs": [
    {
     "data": {
      "text/plain": [
       "'Buizel'"
      ]
     },
     "execution_count": 18,
     "metadata": {},
     "output_type": "execute_result"
    }
   ],
   "source": [
    "#q16\n",
    "battle('Treecko', 'Buizel')"
   ]
  },
  {
   "cell_type": "code",
   "execution_count": 19,
   "metadata": {},
   "outputs": [
    {
     "data": {
      "text/plain": [
       "'Metapod ran away'"
      ]
     },
     "execution_count": 19,
     "metadata": {},
     "output_type": "execute_result"
    }
   ],
   "source": [
    "#q17\n",
    "battle('Metapod', 'Talonflame')"
   ]
  },
  {
   "cell_type": "code",
   "execution_count": 20,
   "metadata": {},
   "outputs": [
    {
     "data": {
      "text/plain": [
       "'Noibat ran away'"
      ]
     },
     "execution_count": 20,
     "metadata": {},
     "output_type": "execute_result"
    }
   ],
   "source": [
    "#q18\n",
    "battle('Leavanny', 'Noibat')"
   ]
  },
  {
   "cell_type": "code",
   "execution_count": 21,
   "metadata": {},
   "outputs": [
    {
     "data": {
      "text/plain": [
       "'Cannot battle'"
      ]
     },
     "execution_count": 21,
     "metadata": {},
     "output_type": "execute_result"
    }
   ],
   "source": [
    "#q19\n",
    "def final_battle(pkmn1, pkmn2):\n",
    "    if(project.get_type1(pkmn1) == \"Flying\" or project.get_type1(pkmn2) == \"Flying\"):\n",
    "        return battle(pkmn1, pkmn2)\n",
    "    elif (project.get_type2(pkmn1) == \"Flying\" or project.get_type2(pkmn2) == \"Flying\"):\n",
    "        return battle(pkmn1, pkmn2)\n",
    "    return battle(pkmn1, pkmn2) if project.get_region(pkmn1) == project.get_region(pkmn2) else \"Cannot battle\"\n",
    "final_battle('Grotle', 'Roggenrola')"
   ]
  },
  {
   "cell_type": "code",
   "execution_count": 22,
   "metadata": {},
   "outputs": [
    {
     "data": {
      "text/plain": [
       "'Goodra'"
      ]
     },
     "execution_count": 22,
     "metadata": {},
     "output_type": "execute_result"
    }
   ],
   "source": [
    "#q20\n",
    "final_battle('Starly', 'Goodra')"
   ]
  }
 ],
 "metadata": {
  "kernelspec": {
   "display_name": "Python 3",
   "language": "python",
   "name": "python3"
  },
  "language_info": {
   "codemirror_mode": {
    "name": "ipython",
    "version": 3
   },
   "file_extension": ".py",
   "mimetype": "text/x-python",
   "name": "python",
   "nbconvert_exporter": "python",
   "pygments_lexer": "ipython3",
   "version": "3.8.5"
  }
 },
 "nbformat": 4,
 "nbformat_minor": 4
}
